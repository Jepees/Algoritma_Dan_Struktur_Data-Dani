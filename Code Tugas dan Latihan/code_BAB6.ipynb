{
 "cells": [
  {
   "cell_type": "code",
   "execution_count": 58,
   "metadata": {},
   "outputs": [],
   "source": [
    "class Empty(Exception):\n",
    "    \"\"\"Error attempting to access an element from an empty container.\"\"\"\n",
    "    pass"
   ]
  },
  {
   "cell_type": "code",
   "execution_count": 59,
   "metadata": {},
   "outputs": [],
   "source": [
    "def reverse_file(filename):\n",
    "    \"\"\"\"Overwrite given file with its contents line-by-line reversed.\"\"\"\n",
    "    S = ArrayStack()\n",
    "    original = open(filename)\n",
    "    for line in original:\n",
    "        S.push(line.rstrip('\\n')) # we will re-insert newlines when writing\n",
    "    original.close()\n",
    "    # now we overwrite with contents in LIFO order\n",
    "    output = open(filename, 'w') # reopening file overwrites original\n",
    "    while not S.is_empty( ):\n",
    "        output.write(S.pop( ) + '\\n' ) # re-insert newline characters\n",
    "    output.close()"
   ]
  },
  {
   "cell_type": "code",
   "execution_count": 60,
   "metadata": {},
   "outputs": [],
   "source": [
    "def is_matched(expr):\n",
    "    \"\"\"Return True if all delimiters are properly match; False otherwise.\"\"\"\n",
    "    lefty = '({[' # opening delimiters\n",
    "    righty = ')}]' # respective closing delims\n",
    "    S = ArrayStack()\n",
    "    for c in expr:\n",
    "        if c in lefty:\n",
    "            S.push(c) # push left delimiter on stack\n",
    "        elif c in righty:\n",
    "            if S.is_empty( ):\n",
    "                return False # nothing to match with\n",
    "            if righty.index(c) != lefty.index(S.pop( )):\n",
    "                return False # mismatched\n",
    "    return S.is_empty( ) # were all symbols matched?"
   ]
  },
  {
   "cell_type": "code",
   "execution_count": 61,
   "metadata": {},
   "outputs": [],
   "source": [
    "def is_matched_html(raw):\n",
    "    \"\"\"Return True if all HTML tags are properly match; False otherwise.\"\"\"\n",
    "    S = ArrayStack()\n",
    "    j = raw.find('<') # find first ’<’ character (if any)\n",
    "    while j != -1:\n",
    "        k = raw.find('>', j+1) # find next ’>’ character\n",
    "        if k == -1:\n",
    "            return False # invalid tag\n",
    "        tag = raw[j+1:k] # strip away < >\n",
    "        if not tag.startswith('/'): # this is opening tag\n",
    "            S.push(tag)\n",
    "        else: # this is closing tag\n",
    "            if S.is_empty():\n",
    "                return False # nothing to match with\n",
    "            if tag[1:] != S.pop():\n",
    "                return False # mismatched delimiter\n",
    "        j = raw.find('<', k+1) # find next ’<’ character (if any)\n",
    "    return S.is_empty( ) # were all opening tags matched?"
   ]
  },
  {
   "cell_type": "code",
   "execution_count": 5,
   "metadata": {},
   "outputs": [],
   "source": [
    "class ArrayQueue:\n",
    "    \"\"\"FIFO queue implementation using a Python list as underlying storage.\"\"\"\n",
    "    DEFAULT_CAPACITY = 10 # moderate capacity for all new queues\n",
    "    def __init__ (self):\n",
    "        \"\"\"Create an empty queue.\"\"\"\n",
    "        self._data = [None] * ArrayQueue.DEFAULT_CAPACITY\n",
    "        self._size = 0\n",
    "        self._front = 0\n",
    "        \n",
    "    def __len__ (self):\n",
    "        \"\"\"Return the number of elements in the queue.\"\"\"\n",
    "        return self._size\n",
    "    \n",
    "    def is_empty(self):\n",
    "        \"\"\"Return True if the queue is empty.\"\"\"\n",
    "        return self._size == 0\n",
    "    \n",
    "    def first(self):\n",
    "        \"\"\"Return (but do not remove) the element at the front of the queue. Raise Empty exception if the queue is empty.\"\"\"\n",
    "        if self.is_empty():\n",
    "            raise Empty('Queue is empty')\n",
    "        return self._data[self._front]\n",
    "    \n",
    "    def dequeue(self):\n",
    "        \"\"\"Remove and return the first element of the queue (i.e., FIFO).Raise Empty exception if the queue is empty.\"\"\"\n",
    "        if self.is_empty():\n",
    "            raise Empty('Queue is empty')\n",
    "        answer = self._data[self._front]\n",
    "        self._data[self._front] = None # help garbage collection\n",
    "        self._front = (self._front + 1) % len(self._data)\n",
    "        self._size -= 1\n",
    "        return answer\n",
    "    \n",
    "    def enqueue(self, e):\n",
    "        \"\"\"Add an element to the back of queue.\"\"\"\n",
    "        if self._size == len(self._data):\n",
    "            self._resize(2*len(self.data)) # double the array size\n",
    "        avail = (self._front + self._size) % len(self._data)\n",
    "        self._data[avail] = e\n",
    "        self._size += 1\n",
    "        \n",
    "    def resize(self, cap): # we assume cap >= len(self)\n",
    "        \"\"\"Resize to a new list of capacity >= len(self).\"\"\"\n",
    "        old = self._data # keep track of existing list\n",
    "        self._data = [None]*cap # allocate list with new capacity\n",
    "        walk = self._front\n",
    "        for k in range(self._size): # only consider existing elements\n",
    "            self._data[k] = old[walk] # intentionally shift indices\n",
    "            walk = (1 + walk) % len(old) # use old size as modulus\n",
    "        self._front = 0 # front has been realigned"
   ]
  },
  {
   "cell_type": "code",
   "execution_count": 10,
   "metadata": {},
   "outputs": [
    {
     "data": {
      "text/plain": [
       "[None, 4, 3, 2, None, None, None, None, None, None]"
      ]
     },
     "execution_count": 10,
     "metadata": {},
     "output_type": "execute_result"
    }
   ],
   "source": [
    "# INI CODE DARI BUKU\n",
    "\n",
    "Q = ArrayQueue()\n",
    "Q.enqueue(5)\n",
    "Q.enqueue(4)\n",
    "Q.enqueue(3)\n",
    "Q.enqueue(2)\n",
    "Q.dequeue()\n",
    "Q._data"
   ]
  },
  {
   "cell_type": "code",
   "execution_count": 1,
   "metadata": {},
   "outputs": [],
   "source": [
    "class ArrayStack:\n",
    "    \"\"\"LIFO Stack implementation using a Python list as underlying storage.\"\"\"\n",
    "\n",
    "    def __init__ (self):\n",
    "        \"\"\"Create an empty stack.\"\"\"\n",
    "        self._data = [] # nonpublic list instance\n",
    "    def __len__ (self):\n",
    "        \"\"\"Return the number of elements in the stack.\"\"\"\n",
    "        return len(self._data)\n",
    "    def is_empty(self):\n",
    "        \"\"\"Return True if the stack is empty.\"\"\"\n",
    "        return len(self._data) == 0\n",
    "    def push(self, e):\n",
    "        \"\"\"Add element e to the top of the stack.\"\"\"\n",
    "        self._data.append(e) # new item stored at end of list\n",
    "    def top(self):\n",
    "        \"\"\"Return (but do not remove) the element at the top of the stack.\n",
    "        Raise Empty exception if the stack is empty.\"\"\"\n",
    "        if self.is_empty( ):\n",
    "            raise Empty(\"Stack is empty\")\n",
    "        return self._data[-1] # the last item in the list\n",
    "    def pop(self):\n",
    "        \"\"\"Remove and return the element from the top of the stack (i.e., LIFO).Raise Empty exception if the stack is empty.\"\"\"\n",
    "        if self.is_empty( ):\n",
    "            raise Empty(\"Stack is empty\")\n",
    "        return self._data.pop() # remove last item from list"
   ]
  },
  {
   "cell_type": "code",
   "execution_count": 2,
   "metadata": {},
   "outputs": [
    {
     "data": {
      "text/plain": [
       "['a', 7, 8]"
      ]
     },
     "execution_count": 2,
     "metadata": {},
     "output_type": "execute_result"
    }
   ],
   "source": [
    "S = ArrayStack()\n",
    "S.push('a')\n",
    "S.push(7)\n",
    "S.push(8)\n",
    "\n",
    "S._data"
   ]
  },
  {
   "cell_type": "code",
   "execution_count": 1,
   "metadata": {},
   "outputs": [],
   "source": [
    "class Empty(Exception):\n",
    "    pass\n",
    "\n",
    "class ArrayQueue:\n",
    "    DEFAULT_CAPACITY = 3 # moderate capacity for all new queues\n",
    "    def __init__ (self):\n",
    "        self._data = [None] * ArrayQueue.DEFAULT_CAPACITY\n",
    "        self._size = 0\n",
    "        self._front = 0\n",
    "        \n",
    "    def __len__ (self):\n",
    "        return self._size\n",
    "    \n",
    "    def is_empty(self):\n",
    "        return self._size == 0\n",
    "    \n",
    "    def first(self):\n",
    "        if self.is_empty():\n",
    "            raise Empty('Queue is empty')\n",
    "        return self._data[self._front]\n",
    "    \n",
    "    def dequeue(self):\n",
    "        if self.is_empty():\n",
    "            raise Empty('Queue is empty')\n",
    "        answer = self._data[self._front]\n",
    "        for i in range(1, self._size):\n",
    "            self._data[i-1] = self._data[i]\n",
    "        self._data[self._size - 1] = None\n",
    "        self._size -= 1\n",
    "        return answer\n",
    "\n",
    "    def enqueue(self, e):\n",
    "        if self._size == len(self._data):\n",
    "            self._resize(2*len(self._data))\n",
    "        self._data[self._size] = e\n",
    "        self._size += 1\n",
    "        \n",
    "    def _resize(self, cap):\n",
    "        old = self._data\n",
    "        self._data = [None]*cap\n",
    "        for k in range(self._size):\n",
    "            self._data[k] = old[k]\n",
    "        self._front = 0"
   ]
  },
  {
   "cell_type": "code",
   "execution_count": null,
   "metadata": {},
   "outputs": [],
   "source": []
  }
 ],
 "metadata": {
  "kernelspec": {
   "display_name": "Python 3",
   "language": "python",
   "name": "python3"
  },
  "language_info": {
   "codemirror_mode": {
    "name": "ipython",
    "version": 3
   },
   "file_extension": ".py",
   "mimetype": "text/x-python",
   "name": "python",
   "nbconvert_exporter": "python",
   "pygments_lexer": "ipython3",
   "version": "3.10.12"
  }
 },
 "nbformat": 4,
 "nbformat_minor": 2
}
