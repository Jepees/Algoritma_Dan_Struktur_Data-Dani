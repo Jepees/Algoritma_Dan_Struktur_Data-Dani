{
 "cells": [
  {
   "cell_type": "markdown",
   "metadata": {},
   "source": [
    "6.7"
   ]
  },
  {
   "cell_type": "code",
   "execution_count": 11,
   "metadata": {},
   "outputs": [],
   "source": [
    "class ArrayQueue:\n",
    "    \"\"\"FIFO queue implementation using a Python list as underlying storage.\"\"\"\n",
    "    DEFAULT_CAPACITY = 5 # moderate capacity for all new queues\n",
    "\n",
    "    def __init__(self):\n",
    "        \"\"\"Create an empty queue.\"\"\"\n",
    "        self._data = [None] * ArrayQueue.DEFAULT_CAPACITY\n",
    "        self._size = 0\n",
    "        self._front = 0\n",
    "\n",
    "    def __len__(self):\n",
    "        \"\"\"Return the number of elements in the queue.\"\"\"\n",
    "        return self._size\n",
    "\n",
    "    def is_empty(self):\n",
    "        \"\"\"Return True if the queue is empty.\"\"\"\n",
    "        return self._size == 0\n",
    "\n",
    "    def first(self):\n",
    "        \"\"\"Return (but do not remove) the element at the front of the queue.\n",
    "        Raise Empty exception if the queue is empty.\"\"\"\n",
    "        if self.is_empty():\n",
    "            raise Empty('Queue is empty')\n",
    "        return self._data[self._front]\n",
    "\n",
    "    def dequeue(self):\n",
    "        \"\"\"Remove and return the first element of the queue (i.e., FIFO).\n",
    "        Raise Empty exception if the queue is empty.\"\"\"\n",
    "        if self.is_empty():\n",
    "            raise Empty('Queue is empty')\n",
    "        answer = self._data[self._front]\n",
    "        self._data[self._front] = None # help garbage collection\n",
    "        self._front = (self._front + 1) % len(self._data)\n",
    "        self._size -= 1\n",
    "        return answer\n",
    "\n",
    "    def enqueue(self, e):\n",
    "        \"\"\"Add an element to the back of queue.\"\"\"\n",
    "        if self._size == len(self._data):\n",
    "            self._resize(2*len(self.data)) # double the array size\n",
    "        if self._data[-1] != None: # memeriksa indeks terakhir tidak sama dengan None\n",
    "            cek = 0 # inisiasi variabel\n",
    "            while None in self._data: \n",
    "                self._data.remove(None)\n",
    "                cek += 1\n",
    "            self._data += [None]*cek\n",
    "            self._front = 0\n",
    "        avail = (self._front + self._size) % len(self._data)\n",
    "        self._data[avail] = e\n",
    "        self._size += 1\n",
    "\n",
    "    def _resize(self, cap): # we assume cap >= len(self)\n",
    "        \"\"\"Resize to a new list of capacity >= len(self).\"\"\"\n",
    "        old = self._data # keep track of existing list\n",
    "        self._data = [None]*cap # allocate list with new capacity\n",
    "        walk = self._front\n",
    "        for k in range(self._size): # only consider existing elements\n",
    "            self._data[k] = old[walk] # intentionally shift indices\n",
    "            walk = (1 + walk) % len(old) # use old size as modulus\n",
    "        self._front = 0 # front has been realigned"
   ]
  },
  {
   "cell_type": "code",
   "execution_count": 15,
   "metadata": {},
   "outputs": [
    {
     "name": "stdout",
     "output_type": "stream",
     "text": [
      "isi data awal: [1, 2, 3, 4, 5]\n",
      "isi data setelah melakukan 2x deque: [None, None, 3, 4, 5]\n",
      "isi data setelah melakukan enque kembali: [3, 4, 5, 'a', None]\n"
     ]
    }
   ],
   "source": [
    "Q = ArrayQueue()\n",
    "Q.enqueue(1)\n",
    "Q.enqueue(2)\n",
    "Q.enqueue(3)\n",
    "Q.enqueue(4)\n",
    "Q.enqueue(5)\n",
    "print(f'isi data awal: {Q._data}')\n",
    "Q.dequeue()\n",
    "Q.dequeue()\n",
    "print(f'isi data setelah melakukan 2x deque: {Q._data}')\n",
    "Q.enqueue('a')\n",
    "print(f'isi data setelah melakukan enque kembali: {Q._data}')\n"
   ]
  }
 ],
 "metadata": {
  "kernelspec": {
   "display_name": "Python 3",
   "language": "python",
   "name": "python3"
  },
  "language_info": {
   "codemirror_mode": {
    "name": "ipython",
    "version": 3
   },
   "file_extension": ".py",
   "mimetype": "text/x-python",
   "name": "python",
   "nbconvert_exporter": "python",
   "pygments_lexer": "ipython3",
   "version": "3.10.12"
  }
 },
 "nbformat": 4,
 "nbformat_minor": 2
}
