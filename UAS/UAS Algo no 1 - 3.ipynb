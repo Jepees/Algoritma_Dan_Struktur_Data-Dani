{
 "cells": [
  {
   "cell_type": "markdown",
   "metadata": {},
   "source": [
    "# Soal Nomor 1 (Bobot 25)\n",
    "Bayangkan Anda adalah seorang insinyur sistem yang bekerja di Kementrian Perhubungan negara Konoha.\n",
    "Di Kementrian Perhubungan negara Konoha ini, ada dua orang sahabat yang bernama Argih dan Syifvy.\n",
    "Suatu hari, Syifvy mengirim pesan kepada Argih bahwa dia\n",
    "sedang menunggu di kota N.\n",
    "Argih, yang berada di kota A, harus menemukan jalan tercepat\n",
    "untuk bertemu dengan Syifvy di kota N.\n",
    "\n",
    "Namun, perjalanan ini tidak mudah.\n",
    "Ada banyak kota dan jalan yang harus dilalui, dan setiap jalan memiliki panjang yang berbeda-beda.\n",
    "Argih harus mencari jalur terpendek untuk segera bertemu dengan Syifvy, karena dia tidak ingin membuat Syifvy menunggu terlalu lama.\n",
    "\n",
    "Tantangan Anda adalah membantu Argih menemukan jalur terpendek dari kota A ke kota N.\n",
    "Perhatikan graf di bawah ini, di mana setiap simpul mewakili kota, dan setiap bobot pada simpul mewakili jarak antara dua kota dalam meter.\n",
    "Bantulah Argih agar dapat menemukan jalur terpendek sehingga dia bisa segera bertemu dengan Syifvy!\n",
    "\n",
    "Catatan : Anda tidak perlu membuat python code untuk permasalahan ini!\n"
   ]
  },
  {
   "cell_type": "markdown",
   "metadata": {},
   "source": [
    "<img src=\"https://raw.githubusercontent.com/Jepees/Algoritma_Dan_Struktur_Data-Dani/refs/heads/main/UAS/Graf1.png\" width=\"1247\" height=\"619\">"
   ]
  },
  {
   "cell_type": "code",
   "execution_count": 40,
   "metadata": {},
   "outputs": [],
   "source": [
    "graph1 = {\n",
    "    'AB': 7, 'AC': 6, 'AD': 4,\n",
    "    'BE': 3, 'BF': 5,\n",
    "    'CE': 2, 'CF': 5,\n",
    "    'DE': 9, 'DF': 10,\n",
    "    'EG': 1, 'EH': 8, 'EI': 3, 'EJ': 6,\n",
    "    'FG': 5, 'FH': 3, 'FI': 2, 'FJ':1,\n",
    "    'GK': 6, 'GL': 7, 'GM': 8,\n",
    "    'HK': 7, 'HL': 2, 'HM': 3,\n",
    "    'IK': 5, 'IL': 6, 'IM': 9,\n",
    "    'JK': 4, 'JL': 5, 'JM': 6, \n",
    "    'KN': 7,\n",
    "    'LN': 5,\n",
    "    'MN': 5}\n",
    "\n",
    "graph2 = {'A': {'B': 7, 'C': 6, 'D': 4}, \n",
    "        'B': {'E': 3, 'F': 5}, \n",
    "        'C': {'E': 2, 'F': 5}, \n",
    "        'D': {'E': 9, 'F': 10}, \n",
    "        'E': {'G': 1, 'H': 8, 'I': 3, 'J': 6}, \n",
    "        'F': {'G': 5, 'H': 3, 'I': 2, 'J': 1}, \n",
    "        'G': {'K': 6, 'L': 7, 'M': 8}, \n",
    "        'H': {'K': 7, 'L': 2, 'M': 3}, \n",
    "        'I': {'K': 5, 'L': 6, 'M': 9}, \n",
    "        'J': {'K': 4, 'L': 5, 'M': 6}, \n",
    "        'K': {'N': 7}, \n",
    "        'L': {'N': 5}, \n",
    "        'M': {'N': 5},\n",
    "        'N': {}}"
   ]
  },
  {
   "cell_type": "code",
   "execution_count": 41,
   "metadata": {},
   "outputs": [
    {
     "name": "stdout",
     "output_type": "stream",
     "text": [
      "jalur terpendek adalah: A -> C -> E -> G -> L -> N dengan total jarak 21\n",
      "jalur terpendek adalah: A -> C -> F -> H -> L -> N dengan total jarak 21\n"
     ]
    },
    {
     "data": {
      "text/plain": [
       "[[['A', 'C', 'E', 'G', 'L', 'N'], 21], [['A', 'C', 'F', 'H', 'L', 'N'], 21]]"
      ]
     },
     "execution_count": 41,
     "metadata": {},
     "output_type": "execute_result"
    }
   ],
   "source": [
    "def Semua_Jalan(graph, start, end, jalur=[], bobot=0): # fungsi untuk menemukan semua jalur dan total bobotnya\n",
    "    jalur = jalur + [start]\n",
    "    #print([jalur, bobot])\n",
    "    \n",
    "    if start == end:\n",
    "        return [[jalur, bobot]]\n",
    "    \n",
    "    if start not in graph:\n",
    "        return []\n",
    "    \n",
    "    jalur_cek = []\n",
    "    for node in graph[start]:\n",
    "        if node not in jalur:\n",
    "            new_paths = Semua_Jalan(graph, node, end, jalur, bobot + graph[start][node])\n",
    "            #print(new_paths)\n",
    "            for p in new_paths:\n",
    "                jalur_cek.append(p)\n",
    "    return jalur_cek\n",
    "\n",
    "def jalur_terpendek(arr): #fungsi untuk mencetak jalur terpendek dan bobotnya\n",
    "    semua_panjang_jalur = [i[1] for i in arr]\n",
    "    kombinasi_jalur_terpendek = [i for i in arr if i[1] == min(semua_panjang_jalur)]\n",
    "    for jalur in kombinasi_jalur_terpendek:\n",
    "        print(f\"jalur terpendek adalah: {' -> '.join(jalur[0])} dengan total jarak {jalur[1]}\")\n",
    "    return kombinasi_jalur_terpendek\n",
    "\n",
    "jalur_terpendek(Semua_Jalan(graph2, 'A', 'N'))\n"
   ]
  },
  {
   "cell_type": "markdown",
   "metadata": {},
   "source": [
    "# Soal Nomor 2 (Bobot 20)\n",
    "Bilangan prima yang dapat dipotong dari kiri adalah bilangan prima yang tidak mengandung digit 0 dan, ketika digit pertama dihapus secara berurutan hingga digit terakhir, hasilnya selalu prima.\n",
    "Bilangan prima yang dapat dipotong dari kanan adalah bilangan prima yang tidak mengandung digit 0 dan, ketika digit terakhir dihapus secara berurutan hingga digit awal, hasilnya selalu prima. \n",
    "\n",
    "Buatlah code python yang mengambil sebuah bilangan bulat sebagai argumen dan:\n",
    "- a. Jika bilangan bulat tersebut hanya merupakan bilangan prima yang dapat dipotong dari kiri, return \"left\".\n",
    "- b. Jika bilangan bulat tersebut hanya merupakan bilangan prima yang dapat dipotong dari kanan, return \"right\".\n",
    "- c. Jika bilangan bulat tersebut termasuk kriteria pada poin (a) dan (b) diatas, maka return \"both\". Jika tidak, kembalikan False.\n",
    "\n",
    "Catatan : Anda harus mengerjakan menggunakan prinsip Stack!\n"
   ]
  },
  {
   "cell_type": "code",
   "execution_count": 42,
   "metadata": {},
   "outputs": [],
   "source": [
    "def isprime(intr):\n",
    "    if intr <= 1:\n",
    "        return False\n",
    "    \n",
    "    cek = True\n",
    "    for i in range(2,intr):\n",
    "        if intr%i == 0:\n",
    "            #print(f'{i}, {intr}/{i} = {intr/i}')\n",
    "            cek = False\n",
    "            break\n",
    "    return cek\n",
    "\n",
    "#[i for i in range(900) if isprime(i)]"
   ]
  },
  {
   "cell_type": "code",
   "execution_count": 43,
   "metadata": {},
   "outputs": [
    {
     "data": {
      "text/plain": [
       "False"
      ]
     },
     "execution_count": 43,
     "metadata": {},
     "output_type": "execute_result"
    }
   ],
   "source": [
    "def cekprima(intr):\n",
    "    if not isprime(intr):\n",
    "        return isprime(intr)\n",
    "    \n",
    "    inputt = list(str(intr))\n",
    "    cek_hapus_kanan = [] #membuat array dengan prinsip stack\n",
    "    \n",
    "    hasil_cek_hapus_kanan = True\n",
    "    for i in reversed(range(len(inputt))):\n",
    "        cek_hapus_kanan = [inputt[i]] + cek_hapus_kanan\n",
    "        if not isprime(int(''.join(cek_hapus_kanan))):\n",
    "            hasil_cek_hapus_kanan = False\n",
    "        print(cek_hapus_kanan, hasil_cek_hapus_kanan)\n",
    "    print(f'\\nisi cek kanan saat ini: {cek_hapus_kanan}\\n')\n",
    "    \n",
    "    hasil_cek_hapus_kiri = True\n",
    "    cek_hapus_kiri = []\n",
    "    while cek_hapus_kanan:\n",
    "        cek_hapus_kiri.append(cek_hapus_kanan.pop(0))\n",
    "        if not isprime(int(''.join(cek_hapus_kiri))):\n",
    "            hasil_cek_hapus_kiri = False\n",
    "        print( cek_hapus_kiri, hasil_cek_hapus_kiri)\n",
    "        #print(f'isi cek kiri saat ini : {cek_hapus_kiri}, {hasil_cek_hapus_kiri}\\nisi cek kanan saat ini: {cek_hapus_kanan}\\n')\n",
    "        \n",
    "    if not hasil_cek_hapus_kanan and not hasil_cek_hapus_kiri:\n",
    "        return False\n",
    "    if hasil_cek_hapus_kanan:\n",
    "        if hasil_cek_hapus_kiri:\n",
    "            return print(f\"{intr}: Both\\n\")\n",
    "        return print(f\"{intr}: Just Right\\n\")\n",
    "    return print(f\"{intr}: Just Left\\n\")\n",
    "\n",
    "cekprima(3795)"
   ]
  },
  {
   "cell_type": "code",
   "execution_count": 44,
   "metadata": {},
   "outputs": [
    {
     "name": "stdout",
     "output_type": "stream",
     "text": [
      "['7'] True\n",
      "['3', '7'] True\n",
      "['1', '3', '7'] True\n",
      "\n",
      "isi cek kanan saat ini: ['1', '3', '7']\n",
      "\n",
      "['1'] False\n",
      "['1', '3'] False\n",
      "['1', '3', '7'] False\n",
      "137: Just Right\n",
      "\n",
      "['3'] True\n",
      "['3', '3'] False\n",
      "['2', '3', '3'] False\n",
      "\n",
      "isi cek kanan saat ini: ['2', '3', '3']\n",
      "\n",
      "['2'] True\n",
      "['2', '3'] True\n",
      "['2', '3', '3'] True\n",
      "233: Just Left\n",
      "\n",
      "['3'] True\n",
      "['7', '3'] True\n",
      "['3', '7', '3'] True\n",
      "\n",
      "isi cek kanan saat ini: ['3', '7', '3']\n",
      "\n",
      "['3'] True\n",
      "['3', '7'] True\n",
      "['3', '7', '3'] True\n",
      "373: Both\n",
      "\n"
     ]
    }
   ],
   "source": [
    "prima = {   'just_left': [13, 17, 113, 137, 173, 197, 313, 317],\n",
    "            'just_right': [29, 31, 59, 71, 79, 233, 239, 293],\n",
    "            'both': [2, 3, 5, 7, 23, 37, 53, 73, 373, 797]}\n",
    "\n",
    "#for prim in prima:\n",
    "#    for primes in prima[prim]:\n",
    "#        print(cekprima(primes))\n",
    "\n",
    "cekprima(137)\n",
    "cekprima(233)\n",
    "cekprima(373)"
   ]
  },
  {
   "cell_type": "markdown",
   "metadata": {},
   "source": [
    "# Soal Nomor 3 (Bobot 25)\n",
    "\n",
    "**Perjalanan Tak Terlupakan**\n",
    "\n",
    "Di sebuah kota kecil, terdapat sebuah kelompok wisatawan yang ingin menjelajahi beberapa tempat wisata terkenal di kota tersebut.\n",
    "Untuk memastikan mereka tidak melewatkan satu tempat pun dan mengikuti urutan perjalanan yang tepat, mereka memutuskan untuk menggunakan Linked List untuk menyimpan urutan tempat yang akan mereka kunjungi.\n",
    "Setiap tempat wisata diwakili oleh sebuah node dalam Linked List yang berisi informasi tentang nama tempat dan jarak ke tempat wisata berikutnya. Ketika mereka mengunjungi sebuah tempat wisata, mereka akan mencatat jarak total yang telah mereka tempuh.\n",
    "\n",
    "Berikut ini adalah daftar tempat wisata yang akan mereka kunjungi dalam urutan yang telah ditentukan:\n",
    "1. **Museum Kota** - 2 km ke tempat berikutnya\n",
    "2. **Taman Kota** - 1.5 km ke tempat berikutnya\n",
    "3. **Pantai Indah** - 3 km ke tempat berikutnya\n",
    "4. **Kebun Binatang** - 4.5 km ke tempat berikutnya\n",
    "5. **Pusat Perbelanjaan** - 2.5 km ke tempat berikutnya\n",
    "6. **Menara Kota** - 1 km ke tempat berikutnya\n",
    "\n",
    "Sebagai seorang programmer, tugas Anda adalah membantu kelompok wisatawan tersebut dengan menuliskan sebuah program dalam bahasa Python yang menggunakan Linked List untuk menyimpan urutan tempat wisata dan menghitung jarak total yang mereka tempuh.\n",
    "\n",
    "**Petunjuk:**\n",
    "1. Buatlah sebuah kelas Node yang merepresentasikan setiap tempat wisata.\n",
    "2. Buatlah sebuah kelas LinkedList yang akan mengelola node-node tersebut.\n",
    "3. Tambahkan metode untuk menambahkan node ke Linked List dan menghitung jarak total perjalanan.\n",
    "\n",
    "**Contoh Output:**\\\n",
    "Program harus mencetak urutan tempat wisata yang dikunjungi dan jarak total yang telah ditempuh oleh kelompok wisatawan tersebut."
   ]
  },
  {
   "cell_type": "code",
   "execution_count": 45,
   "metadata": {},
   "outputs": [],
   "source": [
    "class Node:\n",
    "    def __init__(self, destinasi, jarak_selanjutnya):\n",
    "        self.destinasi = destinasi\n",
    "        self.jarak_selanjutnya = jarak_selanjutnya\n",
    "        self.next = None\n",
    "        \n",
    "class History_Perjalanan:\n",
    "    def __init__(self):\n",
    "        self.head = None\n",
    "        self.total_tempat_dikunjungi = 0        \n",
    "        \n",
    "    def tempat_baru(self, destinasi, jarak_selanjutnya):\n",
    "        new_node = Node(destinasi, jarak_selanjutnya)\n",
    "        if self.head ==  None:\n",
    "            self.head = new_node\n",
    "        else:\n",
    "            cek = self.head\n",
    "            while cek.next != None:\n",
    "                cek = cek.next\n",
    "            cek.next = new_node\n",
    "        self.total_tempat_dikunjungi += 1\n",
    "\n",
    "    def list_kunjungan(self):\n",
    "        print(f'kamu sudah mengunjungi {self.total_tempat_dikunjungi} destinasi lhoo!!\\ndengan rincian sebagai berikut:\\n')\n",
    "        cek = self.head\n",
    "        i = 1\n",
    "        while cek != None:\n",
    "            print(f'tempat ke-{i}: {cek.destinasi}')\n",
    "            i += 1\n",
    "            cek = cek.next\n",
    "        \n",
    "    def total_jarak(self):\n",
    "        jarak = 0\n",
    "        cek = self.head\n",
    "        while cek.next != None:\n",
    "            jarak += cek.jarak_selanjutnya\n",
    "            cek = cek.next\n",
    "        print(f'\\ntotal jarak ditempuh: {jarak} km\\n')\n",
    "        \n",
    "    def info(self):\n",
    "        self.list_kunjungan()\n",
    "        self.total_jarak()"
   ]
  },
  {
   "cell_type": "code",
   "execution_count": 46,
   "metadata": {},
   "outputs": [],
   "source": [
    "class Trace_History_Perjalanan:\n",
    "    def __init__(self):\n",
    "        self.data = [None]\n",
    "        self.total_tempat = 0\n",
    "        self.total_perjalanan = 0\n",
    "        print(self.data)\n",
    "    \n",
    "    def insert(self, destinasi, jarak):\n",
    "        if self.data[0] == None:\n",
    "            self.data = [destinasi, jarak, None]\n",
    "        else:\n",
    "            cek = self.data\n",
    "            while cek[-1] != None:\n",
    "                cek = cek[-1]\n",
    "            self.total_tempat += 1\n",
    "            if self.total_tempat >= 1:\n",
    "                self.total_perjalanan += cek[1]\n",
    "            cek[-1] = [destinasi, jarak, None]\n",
    "        print(self.data)\n",
    "\n",
    "    def __str__(self):\n",
    "        return str(self.data)\n",
    "\n",
    "    def __repr__(self):\n",
    "        return self.__str__()"
   ]
  },
  {
   "cell_type": "code",
   "execution_count": 47,
   "metadata": {},
   "outputs": [
    {
     "name": "stdout",
     "output_type": "stream",
     "text": [
      "kamu sudah mengunjungi 6 destinasi lhoo!!\n",
      "dengan rincian sebagai berikut:\n",
      "\n",
      "tempat ke-1: Museum Kota\n",
      "tempat ke-2: Taman Kota\n",
      "tempat ke-3: Pantai Indah\n",
      "tempat ke-4: Kebun Binatang\n",
      "tempat ke-5: Pusat Perbelanjaan\n",
      "tempat ke-6: Menara Kota\n",
      "\n",
      "total jarak ditempuh: 13.5 km\n",
      "\n",
      "--------------------------------------------------------------------Trace--------------------------------------------------------------------\n",
      "\n",
      "[None]\n",
      "['Museum Kota', 2, None]\n",
      "['Museum Kota', 2, ['Taman Kota', 1.5, None]]\n",
      "['Museum Kota', 2, ['Taman Kota', 1.5, ['Pantai Indah', 3, None]]]\n",
      "['Museum Kota', 2, ['Taman Kota', 1.5, ['Pantai Indah', 3, ['Kebun Binatang', 4.5, None]]]]\n",
      "['Museum Kota', 2, ['Taman Kota', 1.5, ['Pantai Indah', 3, ['Kebun Binatang', 4.5, ['Pusat Perbelanjaan', 2.5, None]]]]]\n",
      "['Museum Kota', 2, ['Taman Kota', 1.5, ['Pantai Indah', 3, ['Kebun Binatang', 4.5, ['Pusat Perbelanjaan', 2.5, ['Menara Kota', 1, None]]]]]]\n"
     ]
    }
   ],
   "source": [
    "list_liburan = [\n",
    "{'destinasi': 'Museum Kota', 'jarak_selanjutnya': 2}, \n",
    "{'destinasi': 'Taman Kota', 'jarak_selanjutnya': 1.5}, \n",
    "{'destinasi': 'Pantai Indah', 'jarak_selanjutnya': 3}, \n",
    "{'destinasi': 'Kebun Binatang', 'jarak_selanjutnya': 4.5}, \n",
    "{'destinasi': 'Pusat Perbelanjaan', 'jarak_selanjutnya': 2.5}, \n",
    "{'destinasi': 'Menara Kota', 'jarak_selanjutnya': 1}]\n",
    "\n",
    "liburan = History_Perjalanan()\n",
    "for i in list_liburan:\n",
    "    liburan.tempat_baru(i['destinasi'], i['jarak_selanjutnya'])\n",
    "liburan.info()\n",
    "\n",
    "print(f'--------------------------------------------------------------------Trace--------------------------------------------------------------------\\n')\n",
    "Trace = Trace_History_Perjalanan()\n",
    "for j in list_liburan:\n",
    "    Trace.insert(j['destinasi'], j['jarak_selanjutnya'])"
   ]
  }
 ],
 "metadata": {
  "kernelspec": {
   "display_name": "Python 3",
   "language": "python",
   "name": "python3"
  },
  "language_info": {
   "codemirror_mode": {
    "name": "ipython",
    "version": 3
   },
   "file_extension": ".py",
   "mimetype": "text/x-python",
   "name": "python",
   "nbconvert_exporter": "python",
   "pygments_lexer": "ipython3",
   "version": "3.10.12"
  }
 },
 "nbformat": 4,
 "nbformat_minor": 2
}
