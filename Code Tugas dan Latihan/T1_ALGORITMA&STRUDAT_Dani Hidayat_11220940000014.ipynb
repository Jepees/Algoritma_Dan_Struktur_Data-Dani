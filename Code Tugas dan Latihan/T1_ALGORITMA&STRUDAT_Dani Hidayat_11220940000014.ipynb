{
 "cells": [
  {
   "cell_type": "code",
   "execution_count": 1,
   "metadata": {},
   "outputs": [
    {
     "name": "stdout",
     "output_type": "stream",
     "text": [
      "mohon masukan bilangan bulat! silahkan coba lagi\n",
      "2 adalah bilangan genap\n"
     ]
    }
   ],
   "source": [
    "while True:\n",
    "    try:\n",
    "        a = int(input(\"pilih bilangan bulat untuk dicek: \"))\n",
    "        break\n",
    "    except ValueError:\n",
    "        print('mohon masukan bilangan bulat! silahkan coba lagi')       \n",
    "\n",
    "if a%2 == 0:\n",
    "    print(a, 'adalah bilangan genap')\n",
    "else:\n",
    "    print(a, 'adalah bilangan ganjil')"
   ]
  },
  {
   "cell_type": "code",
   "execution_count": 4,
   "metadata": {},
   "outputs": [
    {
     "name": "stdout",
     "output_type": "stream",
     "text": [
      "nilai 2-3 bukan bilangan bulat, nilai ini akan kita abaikan.\n",
      "bilangan genap:  [1, 4]\n",
      "bilangan negatif:  [-2, -1, -1]\n",
      "bilangan nol:  [0]\n"
     ]
    }
   ],
   "source": [
    "CEK_INPUT = input('masukan banyak bilangan bulat dan pisahkan dengan koma: ')\n",
    "\n",
    "b = []\n",
    "for bstr in CEK_INPUT.split(','):\n",
    "    try:\n",
    "        fix = int(bstr.strip())\n",
    "        b.append(fix)\n",
    "    except ValueError:\n",
    "        print('nilai', bstr, \"bukan bilangan bulat, nilai ini akan kita abaikan.\")\n",
    "\n",
    "positif = []\n",
    "negatif = []\n",
    "nol = []\n",
    "\n",
    "for i in b:\n",
    "    if i > 0:\n",
    "        positif.append(i)\n",
    "    elif i < 0:\n",
    "        negatif.append(i)\n",
    "    else:\n",
    "        nol.append(i)\n",
    "        \n",
    "print('bilangan positif: ', positif)\n",
    "print('bilangan negatif: ', negatif)\n",
    "print('bilangan nol: ', nol)"
   ]
  },
  {
   "cell_type": "code",
   "execution_count": 3,
   "metadata": {},
   "outputs": [
    {
     "name": "stdout",
     "output_type": "stream",
     "text": [
      "nilai n bukan bilangan bulat, nilai ini akan kita abaikan.\n",
      "nilai b bukan bilangan bulat, nilai ini akan kita abaikan.\n",
      "nilai g bukan bilangan bulat, nilai ini akan kita abaikan.\n",
      "nilai x bukan bilangan bulat, nilai ini akan kita abaikan.\n",
      "banyaknya bilangan genap:  4\n",
      "banyaknya bilangan ganjil:  4\n"
     ]
    }
   ],
   "source": [
    "cek_gg = input('masukan banyak bilangan bulat dan pisahkan dengan koma: ')\n",
    "\n",
    "c = []\n",
    "for cstr in cek_gg.split(','):\n",
    "    try:\n",
    "        gg = int(cstr.strip())\n",
    "        c.append(gg)\n",
    "    except ValueError:\n",
    "        print('nilai', cstr, \"bukan bilangan bulat, nilai ini akan kita abaikan.\")\n",
    "\n",
    "genap = []\n",
    "ganjil = []\n",
    "\n",
    "for i in c:\n",
    "    if i%2 == 0:\n",
    "        genap.append(i)\n",
    "    else:\n",
    "        ganjil.append(i)\n",
    "\n",
    "print('banyaknya bilangan genap: ', len(genap))\n",
    "print('banyaknya bilangan ganjil: ', len(ganjil))"
   ]
  },
  {
   "cell_type": "code",
   "execution_count": 4,
   "metadata": {},
   "outputs": [
    {
     "name": "stdout",
     "output_type": "stream",
     "text": [
      "mohon masukan bilangan bulat! silahkan coba lagi\n",
      "bilangan prima pada interval 12 sampai 70 adalah:  [13, 17, 19, 23, 29, 31, 37, 41, 43, 47, 53, 59, 61, 67]\n"
     ]
    }
   ],
   "source": [
    "while True:\n",
    "    try:\n",
    "        BB = int(input(\"masukan bilangan untuk batas bawah: \"))\n",
    "        break\n",
    "    except ValueError:\n",
    "        print('mohon masukan bilangan bulat! silahkan coba lagi') \n",
    "\n",
    "while True:\n",
    "    try:\n",
    "        BA = int(input(\"masukan bilangan untuk batas atas: \"))\n",
    "        break\n",
    "    except ValueError:\n",
    "        print('mohon masukan bilangan bulat! silahkan coba lagi') \n",
    "\n",
    "interval = range(BB, BA+1)\n",
    "prime = []\n",
    "\n",
    "for i in interval:\n",
    "    if i > 1:\n",
    "        for e in range(2, i):\n",
    "            if (i % e) == 0:\n",
    "                break\n",
    "        else:\n",
    "            prime.append(i)\n",
    "\n",
    "print('bilangan prima pada interval', BB, 'sampai', BA, 'adalah: ',prime)"
   ]
  },
  {
   "cell_type": "code",
   "execution_count": 5,
   "metadata": {},
   "outputs": [
    {
     "name": "stdout",
     "output_type": "stream",
     "text": [
      "nilai  bukan bilangan bulat, nilai ini akan kita abaikan.\n",
      "dari bilangan-bilangqn [1, 2, 3, 4, 5, 5, 6, 8, 7, 8] diperoleh: \n",
      "angka terbesar adalah:  8\n",
      "angka terbesar kedua adalah:  7\n"
     ]
    }
   ],
   "source": [
    "urut = input('masukan banyak bilangan bulat untuk dicek: ')\n",
    "\n",
    "d = []\n",
    "for str_urut in urut.split(','):\n",
    "    try:\n",
    "        strurut = int(str_urut.strip())\n",
    "        d.append(strurut)\n",
    "    except ValueError:\n",
    "        print('nilai', str_urut, \"bukan bilangan bulat, nilai ini akan kita abaikan.\")\n",
    "\n",
    "MX = d[0]\n",
    "MX2 = 0\n",
    "\n",
    "for i in d:\n",
    "    if i > MX:\n",
    "        MX2 = MX \n",
    "        MX = i \n",
    "    elif i>MX2 and i<MX:\n",
    "        MX2 = i\n",
    "\n",
    "print('dari bilangan-bilangqn', d, 'diperoleh: ')\n",
    "print('angka terbesar adalah: ', MX)\n",
    "print('angka terbesar kedua adalah: ', MX2)"
   ]
  },
  {
   "cell_type": "code",
   "execution_count": 8,
   "metadata": {},
   "outputs": [
    {
     "name": "stdout",
     "output_type": "stream",
     "text": [
      "Frekuensi:\n",
      "1 muncul 1 kali\n",
      "2 muncul 1 kali\n",
      "3 muncul 1 kali\n",
      "5 muncul 2 kali\n",
      "4 muncul 1 kali\n"
     ]
    }
   ],
   "source": [
    "CEK_MUNCUL = input('masukan banyak bilangan bulat dan pisahkan dengan koma: ')\n",
    "\n",
    "z = []\n",
    "for muncul_str in CEK_MUNCUL.split(','):\n",
    "    try:\n",
    "        MUNCUL = int(muncul_str.strip())\n",
    "        z.append(MUNCUL)\n",
    "    except ValueError:\n",
    "        print('nilai', muncul_str, \"bukan bilangan bulat, nilai ini akan kita abaikan.\")\n",
    "\n",
    "frekuensi = {}\n",
    "\n",
    "for angka in z:\n",
    "    if angka in frekuensi:\n",
    "        frekuensi[angka] += 1\n",
    "    else:\n",
    "        frekuensi[angka] = 1\n",
    "\n",
    "print('Frekuensi:')\n",
    "for isi in frekuensi:\n",
    "    print(isi, 'muncul', frekuensi[isi], 'kali')"
   ]
  }
 ],
 "metadata": {
  "kernelspec": {
   "display_name": "Python 3",
   "language": "python",
   "name": "python3"
  },
  "language_info": {
   "codemirror_mode": {
    "name": "ipython",
    "version": 3
   },
   "file_extension": ".py",
   "mimetype": "text/x-python",
   "name": "python",
   "nbconvert_exporter": "python",
   "pygments_lexer": "ipython3",
   "version": "3.10.12"
  }
 },
 "nbformat": 4,
 "nbformat_minor": 2
}
