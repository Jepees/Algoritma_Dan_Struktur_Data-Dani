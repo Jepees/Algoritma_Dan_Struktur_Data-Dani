{
 "cells": [
  {
   "cell_type": "code",
   "execution_count": 37,
   "metadata": {},
   "outputs": [
    {
     "data": {
      "text/plain": [
       "720"
      ]
     },
     "execution_count": 37,
     "metadata": {},
     "output_type": "execute_result"
    }
   ],
   "source": [
    "def factorial(n):\n",
    "    if n == 0:\n",
    "        return 1\n",
    "    else:\n",
    "        return n*factorial(n - 1)\n",
    "    \n",
    "factorial(6)\n"
   ]
  },
  {
   "cell_type": "code",
   "execution_count": 2,
   "metadata": {},
   "outputs": [
    {
     "name": "stdout",
     "output_type": "stream",
     "text": [
      "list input:  [1, 3, 4, 5, 6, 3, 7, 8, 9, 2] \n",
      "nilai maksimum pada list:  9 \n",
      "nilai minimum pada list:  1\n"
     ]
    }
   ],
   "source": [
    "def min_max(arr, min_val=None, max_val=None):\n",
    "    if len(arr) == 0:\n",
    "        return min_val, max_val\n",
    "    elif len(arr) == 1:\n",
    "        if min_val is None or arr[0] < min_val:\n",
    "            min_val = arr[0]\n",
    "        if max_val is None or arr[0] > max_val:\n",
    "            max_val = arr[0]\n",
    "        return min_val, max_val\n",
    "    else:\n",
    "        if min_val is None or arr[0] < min_val:\n",
    "            min_val = arr[0]\n",
    "        if max_val is None or arr[0] > max_val:\n",
    "            max_val = arr[0]\n",
    "        return min_max(arr[1:], min_val, max_val)\n",
    "\n",
    "while True:\n",
    "    try:\n",
    "        angka = [int(a) for a in input(\"Masukkan angka: \").split(\",\")]\n",
    "        mnv, mxv = min_max(angka)\n",
    "        print('list input: ', angka, '\\nnilai maksimum pada list: ', mxv, '\\nnilai minimum pada list: ', mnv )\n",
    "        break\n",
    "    except Exception as e:\n",
    "        print(\"Input tidak valid! Silakan masukkan input yang valid.\", e)"
   ]
  },
  {
   "cell_type": "code",
   "execution_count": 9,
   "metadata": {},
   "outputs": [
    {
     "name": "stdout",
     "output_type": "stream",
     "text": [
      "m =  1 \n",
      "n =  2 \n",
      "maka m*n =  2\n"
     ]
    }
   ],
   "source": [
    "def product(a, b):\n",
    "    if b == 1:\n",
    "        return a\n",
    "    else:\n",
    "        return a + product(a, b-1)\n",
    "    \n",
    "while True:\n",
    "    try:\n",
    "        m = int(input(\"Masukkan nilai m: \"))\n",
    "        n = int(input(\"Masukkan nilai n: \"))\n",
    "        if m <= 0 or n <= 0:\n",
    "            raise ValueError(\"Input harus bilangan bulat positif\")\n",
    "        values = product(m, n)\n",
    "        print(\"m = \", m, '\\nn = ', n, '\\nmaka m*n = ', values)\n",
    "        break\n",
    "    except Exception as e:\n",
    "        print(\"Input tidak valid! Silakan masukkan input yang valid.\", e)"
   ]
  },
  {
   "cell_type": "code",
   "execution_count": 29,
   "metadata": {},
   "outputs": [
    {
     "name": "stdout",
     "output_type": "stream",
     "text": [
      "sayuR soP\n"
     ]
    }
   ],
   "source": [
    "def kebalik(s):\n",
    "    if len(s) <=1:\n",
    "        return s\n",
    "    else:\n",
    "        return s[-1]  + kebalik(s[:-1])\n",
    "    \n",
    "a = 'Pos Ruyas'\n",
    "print(kebalik(a))"
   ]
  },
  {
   "cell_type": "code",
   "execution_count": 52,
   "metadata": {},
   "outputs": [
    {
     "data": {
      "text/plain": [
       "True"
      ]
     },
     "execution_count": 52,
     "metadata": {},
     "output_type": "execute_result"
    }
   ],
   "source": [
    "def palindrom(s):\n",
    "    if len(s) <= 1:\n",
    "        return True\n",
    "    elif s[0] == s[-1]:\n",
    "        return palindrom(s[1:-1])\n",
    "    else:\n",
    "        return False\n",
    "    \n",
    "b = 'kasur rusak'\n",
    "palindrom(b)"
   ]
  }
 ],
 "metadata": {
  "kernelspec": {
   "display_name": "Python 3",
   "language": "python",
   "name": "python3"
  },
  "language_info": {
   "codemirror_mode": {
    "name": "ipython",
    "version": 3
   },
   "file_extension": ".py",
   "mimetype": "text/x-python",
   "name": "python",
   "nbconvert_exporter": "python",
   "pygments_lexer": "ipython3",
   "version": "3.10.12"
  }
 },
 "nbformat": 4,
 "nbformat_minor": 2
}
