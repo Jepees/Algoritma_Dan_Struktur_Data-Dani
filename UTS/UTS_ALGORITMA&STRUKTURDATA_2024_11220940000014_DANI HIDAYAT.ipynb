{
 "cells": [
  {
   "cell_type": "markdown",
   "metadata": {},
   "source": [
    "# A. Analisis Kelebihan dan Kekurangan Algoritma"
   ]
  },
  {
   "cell_type": "markdown",
   "metadata": {},
   "source": [
    "## A.1. \n",
    "**Berikan contoh kasus terburuk untuk Bubble Sort dan jelaskan mengapa kasus tersebut merupakan yang terburuk.**"
   ]
  },
  {
   "cell_type": "code",
   "execution_count": 2,
   "metadata": {},
   "outputs": [
    {
     "name": "stdout",
     "output_type": "stream",
     "text": [
      "input: [1, 2, 3, 4, 5, 6, 7, 8, 9]\n",
      "hasil terurut: [1, 2, 3, 4, 5, 6, 7, 8, 9]\n",
      "terjadi perbandingan sebanyak: 36 kali\n",
      "\n",
      "input: [34, 7, 23, 32, 5, 62]\n",
      "hasil terurut: [5, 7, 23, 32, 34, 62]\n",
      "terjadi perbandingan sebanyak: 15 kali\n",
      "\n",
      "input: [9, 8, 7, 6, 5, 4, 3, 2, 1]\n",
      "hasil terurut: [1, 2, 3, 4, 5, 6, 7, 8, 9]\n",
      "terjadi perbandingan sebanyak: 36 kali\n",
      "\n"
     ]
    }
   ],
   "source": [
    "def bubble_sort(arr):\n",
    "    perbandingan = 0\n",
    "    for i in range(len(arr)):\n",
    "        for j in range(0, len(arr)-i-1):\n",
    "            perbandingan += 1\n",
    "            if arr[j] > arr[j+1]:\n",
    "                arr[j], arr[j+1] = arr[j+1], arr[j]\n",
    "    return print(f'hasil terurut: {arr}\\nterjadi perbandingan sebanyak: {perbandingan} kali\\n')\n",
    "\n",
    "#fungsi di atas merupakan implementasi sederhana dari algoritma bubble short\n",
    "#semua kasus input akan melakukan perbandingan sebanyak (n-1 + n-2 + ... + 1) kali (dengan n adalah banyaknya anggota array\n",
    "input_sort = [[1,2,3,4,5,6,7,8,9], [34, 7, 23, 32, 5, 62], [9,8,7,6,5,4,3,2,1]]\n",
    "for i in input_sort:\n",
    "    print(f'input: {i}')\n",
    "    f'{bubble_sort(i)}'"
   ]
  },
  {
   "cell_type": "markdown",
   "metadata": {},
   "source": [
    "## A.2.\n",
    "**Apakah ada optimasi yang bisa dilakukan pada Bubble Sort untuk memperbaiki performanya? Jika ada, jelaskan.**"
   ]
  },
  {
   "cell_type": "code",
   "execution_count": 3,
   "metadata": {},
   "outputs": [
    {
     "name": "stdout",
     "output_type": "stream",
     "text": [
      "input: [1, 2, 3, 4, 5, 6, 7, 8, 9]\n",
      "hasil terurut: [1, 2, 3, 4, 5, 6, 7, 8, 9]\n",
      "terjadi perbandingan sebanyak: 8 \n",
      "\n",
      "input: [34, 7, 23, 32, 5, 62]\n",
      "hasil terurut: [5, 7, 23, 32, 34, 62]\n",
      "terjadi perbandingan sebanyak: 15 \n",
      "\n",
      "input: [9, 8, 7, 6, 5, 4, 3, 2, 1]\n",
      "hasil terurut: [1, 2, 3, 4, 5, 6, 7, 8, 9]\n",
      "terjadi perbandingan sebanyak: 36 \n",
      "\n"
     ]
    }
   ],
   "source": [
    "def NewBubble(arr):\n",
    "    perbandingan = 0\n",
    "    for i in range(len(arr)):\n",
    "        sorted = True\n",
    "        for j in range(len(arr)-i-1):\n",
    "            perbandingan += 1\n",
    "            if arr[j] > arr[j + 1]:\n",
    "                arr[j], arr[j + 1] = arr[j + 1], arr[j]\n",
    "                sorted = False\n",
    "        if sorted:\n",
    "            break\n",
    "    return print(f'hasil terurut: {arr}\\nterjadi perbandingan sebanyak: {perbandingan} \\n')\n",
    "\n",
    "#sedikit perubahan pada kode sebelumnya, iterasi akan berhenti apabila tidak aterjadi penukaran\n",
    "#jika list sudah terurut sempurna maka hanya akan terjadi perbandingan sebanyak n-1 kali\n",
    "#namun fungsi bubble sort di atas akan menjadi kasus terburuk ketika list pada input terurut secara terbalik sempurna ataupun secara acak.\n",
    "#karena fungsi akan tetap melakukan pengecekan sebanyak (n-1 + n-2 + ... + 1) kali\n",
    "#contoh:\n",
    "input_sort = [[1,2,3,4,5,6,7,8,9], [34, 7, 23, 32, 5, 62], [9,8,7,6,5,4,3,2,1]]\n",
    "for i in input_sort:\n",
    "    print(f'input: {i}')\n",
    "    f'{NewBubble(i)}'"
   ]
  },
  {
   "cell_type": "markdown",
   "metadata": {},
   "source": [
    "# B. Kemampuan Teknis"
   ]
  },
  {
   "cell_type": "markdown",
   "metadata": {},
   "source": [
    "## B.1\n",
    "Kamu bekerja sebagai seorang programmer di sebuah perusahaan retail yang memiliki gudang penyimpanan besar. \n",
    "Setiap hari, kamu menerima laporan mengenai jumlah stok barang yang masuk ke gudang. \n",
    "Tugasmu adalah menyusun laporan tersebut secara urut agar mudah dibaca oleh manajer gudang. \n",
    "Untuk melakukan ini, kamu memutuskan untuk menggunakan algoritma **Bubble Sort**.\n",
    "\n",
    "**Manajer gudang ingin laporan disusun dalam dua cara:** \\\n",
    "Dari jumlah stok terkecil ke terbesar (ascending) dan dari jumlah stok terbesar ke terkecil (descending). \n",
    "Selain itu, manajer juga tertarik untuk mengetahui berapa banyak perbandingan dan pertukaran yang dilakukan selama proses pengurutan, karena hal ini bisa memberi gambaran tentang efisiensi pekerjaan.\n",
    "\n",
    "**Tugas:** \\\n",
    "Buatlah program dalam Python yang meminta pengguna untuk memasukkan daftar jumlah stok barang (array) melalui keyboard dengan mengimplementasikan algoritma Bubble Sort untuk mengurutkan daftar tersebut baik secara menaik (ascending) maupun menurun (descending). \n",
    "Anda perlu menambahkan fitur untuk menghitung dan mencetak jumlah perbandingan dan pertukaran yang dilakukan selama proses pengurutan. Anda harus dapat menampilkan hasil akhir dari pengurutan serta jumlah perbandingan dan pertukaran untuk masing-masing metode pengurutan (ascending dan descending) serta menerapkan kemampuan untuk handling error ketika terjadi error pada proses input."
   ]
  },
  {
   "cell_type": "markdown",
   "metadata": {},
   "source": [
    "**Contoh Input dan Output** \\\n",
    "**Input:** \\\n",
    "Masukkan jumlah stok barang (pisahkan dengan spasi): 34 7 23 32 5 62 \\\n",
    "Pilih urutan pengurutan (ascending/descending): ascending \n",
    "\n",
    "**Output:** \\\n",
    "Hasil pengurutan: [5, 7, 23, 32, 34, 62] \\\n",
    "Total perbandingan: 15 \\\n",
    "Total pertukaran: 8\n",
    "\n",
    "\n",
    "**Input:**\n",
    "Masukkan jumlah stok barang (pisahkan dengan spasi): 34 7 23 32 5 62\\\n",
    "Pilih urutan pengurutan (ascending/descending): descending\n",
    "\n",
    "**Output:**\n",
    "Hasil pengurutan: [62, 34, 32, 23, 7, 5]\\\n",
    "Total perbandingan: 15 \\\n",
    "Total pertukaran: 10"
   ]
  },
  {
   "cell_type": "code",
   "execution_count": 1,
   "metadata": {},
   "outputs": [
    {
     "name": "stdout",
     "output_type": "stream",
     "text": [
      "Input:\n",
      "Masukkan jumlah stok barang (pisahkan dengan spasi): 34 7 23 32 5 62\n",
      "Pilih urutan pengurutan (ascending/descending): ascending\n",
      " \n",
      "Output:\n",
      "Hasil pengurutan: [5, 7, 23, 32, 34, 62] \n",
      "Total Perbandingan: 15 \n",
      "Total pertukaran: 7\n"
     ]
    }
   ],
   "source": [
    "def NewBubble(arr, a):\n",
    "    perbandingan = 0\n",
    "    pertukaran = 0\n",
    "    if a == 'ascending':\n",
    "        for i in range(len(arr)):\n",
    "            for j in range(0, len(arr)-i-1):\n",
    "                perbandingan += 1\n",
    "                if arr[j] > arr[j+1]:\n",
    "                    arr[j], arr[j+1] = arr[j+1], arr[j]\n",
    "                    pertukaran += 1\n",
    "    else:\n",
    "        for i in range(len(arr)):\n",
    "            for j in range(0, len(arr)-i-1):\n",
    "                perbandingan += 1\n",
    "                if arr[j] < arr[j+1]:\n",
    "                    arr[j], arr[j+1] = arr[j+1], arr[j]\n",
    "                    pertukaran += 1\n",
    "    return print(f'Hasil pengurutan: {arr} \\nTotal Perbandingan: {perbandingan} \\nTotal pertukaran: {pertukaran}')\n",
    "\n",
    "while True:\n",
    "    try:\n",
    "        arr = []\n",
    "        a = input('Masukkan jumlah stok barang (pisahkan dengan spasi):')\n",
    "        for i in a.split(' '):\n",
    "            arr.append(int(i))\n",
    "        while True:\n",
    "            try:\n",
    "                AD = input('Pilih urutan pengurutan (ascending/descending):')\n",
    "                if AD != 'ascending' and AD != 'descending':\n",
    "                    raise ValueError\n",
    "                else:\n",
    "                    break\n",
    "            except Exception as error:\n",
    "                print('hanya pilih (ascending atau descending)!')\n",
    "        break\n",
    "    except ValueError:\n",
    "        print('Masukkan jumlah stok barang (pisahkan dengan spasi):')\n",
    "\n",
    "print(f'Input:\\nMasukkan jumlah stok barang (pisahkan dengan spasi): {a}\\nPilih urutan pengurutan (ascending/descending): {AD}\\n \\nOutput:')\n",
    "NewBubble(arr, AD)"
   ]
  },
  {
   "cell_type": "code",
   "execution_count": 2,
   "metadata": {},
   "outputs": [
    {
     "name": "stdout",
     "output_type": "stream",
     "text": [
      "Input:\n",
      "Masukkan jumlah stok barang (pisahkan dengan spasi): 34 7 23 32 5 62\n",
      "Pilih urutan pengurutan (ascending/descending): descending\n",
      " \n",
      "Output:\n",
      "Hasil pengurutan: [62, 34, 32, 23, 7, 5] \n",
      "Total Perbandingan: 15 \n",
      "Total pertukaran: 8\n"
     ]
    }
   ],
   "source": [
    "def NewBubble(arr, a):\n",
    "    perbandingan = 0\n",
    "    pertukaran = 0\n",
    "    if a == 'ascending':\n",
    "        for i in range(len(arr)):\n",
    "            for j in range(0, len(arr)-i-1):\n",
    "                perbandingan += 1\n",
    "                if arr[j] > arr[j+1]:\n",
    "                    arr[j], arr[j+1] = arr[j+1], arr[j]\n",
    "                    pertukaran += 1\n",
    "    else:\n",
    "        for i in range(len(arr)):\n",
    "            for j in range(0, len(arr)-i-1):\n",
    "                perbandingan += 1\n",
    "                if arr[j] < arr[j+1]:\n",
    "                    arr[j], arr[j+1] = arr[j+1], arr[j]\n",
    "                    pertukaran += 1\n",
    "    return print(f'Hasil pengurutan: {arr} \\nTotal Perbandingan: {perbandingan} \\nTotal pertukaran: {pertukaran}')\n",
    "\n",
    "while True:\n",
    "    try:\n",
    "        arr = []\n",
    "        a = input('Masukkan jumlah stok barang (pisahkan dengan spasi):')\n",
    "        for i in a.split(' '):\n",
    "            arr.append(int(i))\n",
    "        while True:\n",
    "            try:\n",
    "                AD = input('Pilih urutan pengurutan (ascending/descending):')\n",
    "                if AD != 'ascending' and AD != 'descending':\n",
    "                    raise ValueError\n",
    "                else:\n",
    "                    break\n",
    "            except Exception as error:\n",
    "                print('hanya pilih (ascending atau descending)!')\n",
    "        break\n",
    "    except ValueError:\n",
    "        print('Masukkan jumlah stok barang (pisahkan dengan spasi):')\n",
    "\n",
    "print(f'Input:\\nMasukkan jumlah stok barang (pisahkan dengan spasi): {a}\\nPilih urutan pengurutan (ascending/descending): {AD}\\n \\nOutput:')\n",
    "NewBubble(arr, AD)"
   ]
  },
  {
   "cell_type": "markdown",
   "metadata": {},
   "source": [
    "## B.2\n",
    "\n",
    "1. Buat kode python yang dapat implementasi Algoritma Quick Sort serta jelaskan proses detail dalam algoritma yang anda berikan!\n",
    "2. Apakah ada optimasi yang bisa dilakukan pada Quicksort untuk memperbaiki performanya? Jika ada, jelaskan dan implementasikan code nya!"
   ]
  },
  {
   "cell_type": "markdown",
   "metadata": {},
   "source": [
    "### B.2.a\n",
    "Buat kode python yang dapat implementasi Algoritma Quick Sort serta jelaskan proses detail dalam algoritma yang anda berikan!"
   ]
  },
  {
   "cell_type": "markdown",
   "metadata": {},
   "source": [
    "*Function:* Quick_Sort(S)\n",
    "\n",
    "*Recursive Case:*\n",
    "1. Pilih pivot sebagai acuan perbandingan, dengan pivot adalah elemen yang paling akhir dari array S.\n",
    "2. Selanjutnya buat list kosong L, P, dan R untuk menyimpan elemen yang sudah dibandingkan dengan pivot.\n",
    "3. Bandingkan setiap elemen pada array dengan pivot, kemudian:\n",
    "    - nilai yang sama dengan pivot akan dimasukkan ke (P)\n",
    "    - nilai yang kurang dari pivot akan dimasukkan ke (L) \n",
    "    - nilai yang lebih besar dari pivot akan dimasukkan ke (R)\n",
    "4. selanjutnya, pada array L dan R akan dilakukan rekursi terus menerus sesuai aturan 1-3 hingga masuk ke base case yaitu array memiliki satu elemen atau kosong\n",
    "\n",
    "*Base Case:*\n",
    "1. Jika banyak elemen S kurang dari 2, maka akan mengembalikan elemen itu sendiri. Dengan kata lain elemennya hanya ada 1 dan sudah terurut atau araay kosong\n",
    "2. setelah masuk ke base case 1, 3 array tadi (L, P dan R) akan digabungkan kembali dengan aturan L+P+R\n",
    "3. dengan begini L+P+R dijamin merupakan sebuah array yang elemen-elemennya sudah terurut."
   ]
  },
  {
   "cell_type": "code",
   "execution_count": 5,
   "metadata": {},
   "outputs": [
    {
     "name": "stdout",
     "output_type": "stream",
     "text": [
      "pemotongan ke: 1 || sisi: \n",
      "[2, 5, 6, 5, 3, 6, 4, 3, 3, 5, 7, 9, 5, 3, 2, 3, 6, 8, 9, 8, 6] [12] [41, 43, 20]\n",
      "\n",
      "pemotongan ke: 2 || sisi: kiri \n",
      "[2, 5, 5, 3, 4, 3, 3, 5, 5, 3, 2, 3] [6, 6, 6, 6] [7, 9, 8, 9, 8]\n",
      "\n",
      "pemotongan ke: 3 || sisi: kiri kiri \n",
      "[2, 2] [3, 3, 3, 3, 3] [5, 5, 4, 5, 5]\n",
      "\n",
      "pemotongan ke: 4 || sisi: kiri kiri kiri \n",
      "[] [2, 2] []\n",
      "\n",
      "pemotongan ke: 4 || sisi: kiri kiri kanan \n",
      "[4] [5, 5, 5, 5] []\n",
      "\n",
      "pemotongan ke: 3 || sisi: kiri kanan \n",
      "[7] [8, 8] [9, 9]\n",
      "\n",
      "pemotongan ke: 4 || sisi: kiri kanan kanan \n",
      "[] [9, 9] []\n",
      "\n",
      "pemotongan ke: 2 || sisi: kanan \n",
      "[] [20] [41, 43]\n",
      "\n",
      "pemotongan ke: 3 || sisi: kanan kanan \n",
      "[41] [43] []\n",
      "\n"
     ]
    },
    {
     "data": {
      "text/plain": [
       "[2, 2, 3, 3, 3, 3, 3, 4, 5, 5, 5, 5, 6, 6, 6, 6, 7, 8, 8, 9, 9, 12, 20, 41, 43]"
      ]
     },
     "execution_count": 5,
     "metadata": {},
     "output_type": "execute_result"
    }
   ],
   "source": [
    "def QuickSort(arr, iterasi=1, sisi=''):\n",
    "    if len(arr)<2:\n",
    "        return arr\n",
    "    else:\n",
    "        Pipot = arr[-1]\n",
    "        P,L,R = [],[],[]\n",
    "        for i in arr:\n",
    "            if i < Pipot:\n",
    "                L.append(i)\n",
    "            if i > Pipot:\n",
    "                R.append(i)\n",
    "            elif i == Pipot:\n",
    "                P.append(i)\n",
    "    print(f'pemotongan ke: {iterasi} || sisi: {sisi}')\n",
    "    print(L, P, R)\n",
    "    print('')\n",
    "    return QuickSort(L, iterasi+1, sisi+'kiri ') + P + QuickSort(R, iterasi+1, sisi+'kanan ')\n",
    "\n",
    "QuickSort([41,2,5,6,5,3,6,4,3,3,5,7,9,5,3,2,3,6,8,9,8,6,43,20,12])"
   ]
  },
  {
   "cell_type": "markdown",
   "metadata": {},
   "source": [
    "### B.2.b\n",
    "Apakah ada optimasi yang bisa dilakukan pada Quicksort untuk memperbaiki performanya? Jika ada, jelaskan dan implementasikan code nya!"
   ]
  },
  {
   "cell_type": "code",
   "execution_count": 6,
   "metadata": {},
   "outputs": [
    {
     "data": {
      "text/plain": [
       "[2, 2, 3, 3, 3, 3, 3, 4, 5, 5, 5, 5, 6, 6, 6, 6, 7, 8, 8, 9, 9, 12, 20, 41, 43]"
      ]
     },
     "execution_count": 6,
     "metadata": {},
     "output_type": "execute_result"
    }
   ],
   "source": [
    "def More_Quick(S, a, b):\n",
    "    \"\"\"Implementasi Quick Sort yang sudah diperbaiki performanya\"\"\"\n",
    "    # S : Array yang akan diurutkan\n",
    "    # a : Indeks pertama dari array\n",
    "    # b : Indeks terakhir dari array\n",
    "\n",
    "    if a>=b: # Jika a lebih besar atau sama dengan b, maka S sudah terurut atau hanya memiliki satu elemen\n",
    "        return S # Lalu fungsi akan mengembalikan array S\n",
    "    pivot = S[b] # Memilih elemen terakhir dari S sebagai pivot\n",
    "    left = a # Membuat pointer dari awal array S\n",
    "    right = b-1 # Membuat pointer dari elemen sebelum pivot\n",
    "\n",
    "\n",
    "    while left <= right: # while loop pertama untuk memindahkan \n",
    "        while left <= right and S[left] < pivot: # Memindahkan pointer left ke kanan hingga terdapat elemen yang lebih besar atau sama dengan pivot\n",
    "            left += 1\n",
    "        while left <= right and pivot < S[right]: # memindahkan pointer kanan ke kiri hingga terdapat elemen yang lebih kecil atau sama dengan pivot\n",
    "            right -= 1\n",
    "        if left <= right: # Jika left masih kurang dari atau sama dengan right\n",
    "            S[left], S[right] = S[right], S[left] # Tukar elemen pada posisi left dan right, lalu gerakkan kedua pointer\n",
    "            left, right = left + 1, right - 1\n",
    "\n",
    "    S[left], S[b] = S[b], S[left] # Setelah partisi selesai, pindahkan pivot ke posisi yang benar\n",
    "    More_Quick(S, a, left - 1) # Secara rekursi mengurutkan subarray di sebelah kiri pivot\n",
    "    More_Quick(S, left + 1, b) # Secara rekursi mengurutkan subarray di sebelah kanan pivot\n",
    "\n",
    "arraq = [41,2,5,6,5,3,6,4,3,3,5,7,9,5,3,2,3,6,8,9,8,6,43,20,12]\n",
    "More_Quick(arraq, 0, len(arraq)-1)\n",
    "arraq"
   ]
  },
  {
   "cell_type": "markdown",
   "metadata": {},
   "source": [
    "Algoritma More_Quick melakukan soting tanpa memerlukan list kosong yang baru saat proses pengurutan. Pengurutan dilakukan secara paralel menggunakan left dan right sebagai variabel yang digunakan. jadi alih-alih memasukan beberapa elemen ke list baru, kita hanhya melakukan penukaran elemen pada array input\n",
    "\n",
    "Algoritma ini menggunakan elemen terakhir sebagai pivotnya. Elemen yang lebih kecil dari pivot diletakkan di sebelah kiri pivot, elemen yang lebih besar dari pivot diletakkan di sebelah kanan pivot.Saat indeks saling berpapasan, pembagian selesai dan dilanjutkan rekursi.\n",
    "\n",
    "Algoritma ini tidak membutuhkan list kosong tambahan, sehingga tidak perlu memori tambahan saat proses pengurutan.\n",
    "\n",
    "Jadi, More_Quick menggunakan memori lebih minim."
   ]
  },
  {
   "cell_type": "markdown",
   "metadata": {},
   "source": [
    "## B.3 \n",
    "Jelaskan kegunaan dari code di bawah dan berikan ilustrasi cara kerja nya! Semakin detail anda menjelaskan dan mengilustrasikan maka semakin sempurna skor yang anda peroleh."
   ]
  },
  {
   "cell_type": "code",
   "execution_count": 7,
   "metadata": {},
   "outputs": [
    {
     "name": "stdout",
     "output_type": "stream",
     "text": [
      "---- 0\n",
      "-\n",
      "--\n",
      "-\n",
      "---\n",
      "-\n",
      "--\n",
      "-\n",
      "---- 1\n",
      "-\n",
      "--\n",
      "-\n",
      "---\n",
      "-\n",
      "--\n",
      "-\n",
      "---- 2\n"
     ]
    }
   ],
   "source": [
    "def draw_line(tick_length, tick_label=''):\n",
    "    line = '-' * tick_length #inisiasi varibael line berisi strip sebanyak tick_length\n",
    "    if tick_label:\n",
    "        line += ' ' + tick_label #jika tick_label terisi, label akan dimasukkan di akhir variabel line\n",
    "    print(line) #mengeluarkan/menggambar variabel line\n",
    "'''fungsi: draw_line(tick_length, tick_label='')'''\n",
    "#Kegunaan: Menggambar satu garis dengan panjang tick_length. \n",
    "#Jika ada tick_label, label (tick_label) akan ditambahkan di akhir garis.\n",
    "#Contoh: - draw_line(4, '1') akan mencetak (---- 1).\n",
    "#Contoh: - draw_line(4, '') akan mencetak (----).\n",
    "\n",
    "def draw_interval(center_length):\n",
    "    if center_length > 0: #jika center_length lebih besar dari nol\n",
    "        draw_interval(center_length - 1)#merekursi draw_interval dengan mengurangi center_length sebanyak satu\n",
    "        draw_line(center_length)#menggambar garis sepanjang center_length (ini merupakan titik tengah interval (1/2 satuan))\n",
    "        draw_interval(center_length - 1)#merekursi draw_interval dengan mengurangi center_length sebanyak satu\n",
    "    #perhatikan pada pemanggilan rekursi di baris 13 dan 15:\n",
    "        #pemanggilan ini akan menggambar garis yang panjangnya adalah center_line dikurangi satu\n",
    "        #gambar tersebut akan berjarak (1/2) satuan dari interval sebelumnya\n",
    "        #jadi penggambaran akan berjalan dengan jarak (1/2, 1/4, 1/8,...) dari total jarak antar label dan dengan garis yang lebih pendek\n",
    "'''fungsi: draw_interval(center_length)'''\n",
    "#Kegunaan: Menggambar interval tengah yang mengandung tanda (tick) dari panjang center_length dan tanda (tick) lebih pendek di sekitarnya secara rekursif.\n",
    "#Contoh: draw_interval(3) akan menggambar:\n",
    "'-'\n",
    "'--'\n",
    "'-'\n",
    "'---'\n",
    "'-'\n",
    "'--'\n",
    "'-'\n",
    "\n",
    "def draw_ruler(num_inches, major_length):\n",
    "    draw_line(major_length, '0')\n",
    "    for j in range(1, 1 + num_inches): #melakukan looping for untuk penggambaran label beserta intervalnya\n",
    "        draw_interval(major_length - 1) #menggambar interval antar label dengan pemanggilan rekursi draw_interval, panjang garis tertingginya adalah seepanjang label dikurangi satu\n",
    "        draw_line(major_length, str(j)) #menggambar label dengan pemangglan draw_line satu kali\n",
    "        #Jadi pada setiap iterasi akan dilakukan penggambaran interval untuk label terakhir yang tergambar \n",
    "        #kemudian digambbarkan label ke-j, dan terus dilakukan iterasi sampai j bernilai sama dengan num_inches yang diinput ke dalam fungsi\n",
    "'''fungsi: draw_ruler(num_inches, major_length)'''\n",
    "#Kegunaan: Menggambar keseluruhan penggaris dengan panjang num_inches dan panjang tanda utama major_length menggunkan looping for sebanyak num_inches\n",
    "#Contoh: draw_ruler(2, 4) akan menghasilkan penggaris dengan dua inci dan panjang tanda utama 4.\n",
    "\n",
    "#contoh penggunaan:\n",
    "draw_ruler(2,4)"
   ]
  },
  {
   "cell_type": "code",
   "execution_count": 8,
   "metadata": {},
   "outputs": [
    {
     "name": "stdout",
     "output_type": "stream",
     "text": [
      "ILUSTRASI:\n",
      "\n",
      "draw_ruler(2,4)\n",
      "-> draw_line(4,'0')             Output: ---- 0\n",
      "For j in range (1,3):\n",
      "pada bagian j = 1\n",
      "---->draw_interval(3)\n",
      "------->draw_interval(2)\n",
      "----------->draw_interval(1)\n",
      "----------->draw_interval(0)\n",
      "----------->draw_line(1)        Output: -\n",
      "----------->draw_interval(0)\n",
      "------->draw_line(2)            Output: --\n",
      "----------->draw_interval(1)\n",
      "----------->draw_interval(0)\n",
      "----------->draw_line(1)        Output: -\n",
      "----------->draw_interval(0)\n",
      "------->draw_line(3)            Output: ---\n",
      "------->draw_interval(2)\n",
      "----------->draw_interval(1)\n",
      "----------->draw_interval(0)\n",
      "----------->draw_line(1)        Output: -\n",
      "----------->draw_interval(0)\n",
      "------->draw_line(2)            Output: --\n",
      "----------->draw_interval(1)\n",
      "----------->draw_interval(0)\n",
      "----------->draw_line(1)        Output: -\n",
      "----------->draw_interval(0)\n",
      "->draw_line(4,'1')              Output: ---- 1\n",
      "\n",
      "pada bagian j = 2\n",
      "---->draw_interval(3) \n",
      "------->draw_interval(2)\n",
      "----------->draw_interval(1)\n",
      "----------->draw_interval(0)\n",
      "----------->draw_line(1)        Output: -\n",
      "----------->draw_interval(0)\n",
      "------->draw_line(2)            Output: --\n",
      "----------->draw_interval(1)\n",
      "----------->draw_interval(0)\n",
      "----------->draw_line(1)        Output: -\n",
      "----------->draw_interval(0)\n",
      "------->draw_line(3)            Output: ---\n",
      "------->draw_interval(2)\n",
      "----------->draw_interval(1)\n",
      "----------->draw_interval(0)\n",
      "----------->draw_line(1)        Output: -\n",
      "----------->draw_interval(0)\n",
      "------->draw_line(2)            Output: --\n",
      "----------->draw_interval(1)\n",
      "----------->draw_interval(0)\n",
      "----------->draw_line(1)        Output: -\n",
      "----------->draw_interval(0)\n",
      "->draw_line(4,'2')              Output: ---- 2\n"
     ]
    }
   ],
   "source": [
    "#Ilustrasi\n",
    "#print(draw_ruler(2,4)\n",
    "#-> draw_line(4,'0')             Output: ---- 0\n",
    "#For j in range (1,3):\n",
    "\n",
    "#pada bagian j = 1\n",
    "#---->draw_interval(3) \n",
    "#------->draw_interval(2)\n",
    "#----------->draw_interval(1)\n",
    "#----------->draw_interval(0)\n",
    "#----------->draw_line(1)        Output: -\n",
    "#----------->draw_interval(0)\n",
    "#------->draw_line(2)            Output: --\n",
    "#----------->draw_interval(1)\n",
    "#----------->draw_interval(0)\n",
    "#----------->draw_line(1)        Output: -\n",
    "#----------->draw_interval(0)\n",
    "#------->draw_line(3)            Output: ---\n",
    "#------->draw_interval(2)\n",
    "#----------->draw_interval(1)\n",
    "#----------->draw_interval(0)\n",
    "#----------->draw_line(1)        Output: -\n",
    "#----------->draw_interval(0)\n",
    "#------->draw_line(2)            Output: --\n",
    "#----------->draw_interval(1)\n",
    "#----------->draw_interval(0)\n",
    "#----------->draw_line(1)        Output: -\n",
    "#----------->draw_interval(0)\n",
    "#->draw_line(4,'1')              Output: ---- 1\n",
    "\n",
    "#pada bagian j = 2\n",
    "#---->draw_interval(3) \n",
    "#------->draw_interval(2)\n",
    "#----------->draw_interval(1)\n",
    "#----------->draw_interval(0)\n",
    "#----------->draw_line(1)        Output: -\n",
    "#----------->draw_interval(0)\n",
    "#------->draw_line(2)            Output: --\n",
    "#----------->draw_interval(1)\n",
    "#----------->draw_interval(0)\n",
    "#----------->draw_line(1)        Output: -\n",
    "#----------->draw_interval(0)\n",
    "#------->draw_line(3)            Output: ---\n",
    "#------->draw_interval(2)\n",
    "#----------->draw_interval(1)\n",
    "#----------->draw_interval(0)\n",
    "#----------->draw_line(1)        Output: -\n",
    "#----------->draw_interval(0)\n",
    "#------->draw_line(2)            Output: --\n",
    "#----------->draw_interval(1)\n",
    "#----------->draw_interval(0)\n",
    "#----------->draw_line(1)        Output: -\n",
    "#----------->draw_interval(0)\n",
    "\n",
    "#->draw_line(4,'2')              Output: ---- 2)\n",
    "\n",
    "print(f\"ILUSTRASI:\\n\\ndraw_ruler(2,4)\\n-> draw_line(4,'0')             Output: ---- 0\\nFor j in range (1,3):\\npada bagian j = 1\\n---->draw_interval(3)\\n------->draw_interval(2)\\n----------->draw_interval(1)\\n----------->draw_interval(0)\\n----------->draw_line(1)        Output: -\\n----------->draw_interval(0)\\n------->draw_line(2)            Output: --\\n----------->draw_interval(1)\\n----------->draw_interval(0)\\n----------->draw_line(1)        Output: -\\n----------->draw_interval(0)\\n------->draw_line(3)            Output: ---\\n------->draw_interval(2)\\n----------->draw_interval(1)\\n----------->draw_interval(0)\\n----------->draw_line(1)        Output: -\\n----------->draw_interval(0)\\n------->draw_line(2)            Output: --\\n----------->draw_interval(1)\\n----------->draw_interval(0)\\n----------->draw_line(1)        Output: -\\n----------->draw_interval(0)\\n->draw_line(4,'1')              Output: ---- 1\\n\\npada bagian j = 2\\n---->draw_interval(3) \\n------->draw_interval(2)\\n----------->draw_interval(1)\\n----------->draw_interval(0)\\n----------->draw_line(1)        Output: -\\n----------->draw_interval(0)\\n------->draw_line(2)            Output: --\\n----------->draw_interval(1)\\n----------->draw_interval(0)\\n----------->draw_line(1)        Output: -\\n----------->draw_interval(0)\\n------->draw_line(3)            Output: ---\\n------->draw_interval(2)\\n----------->draw_interval(1)\\n----------->draw_interval(0)\\n----------->draw_line(1)        Output: -\\n----------->draw_interval(0)\\n------->draw_line(2)            Output: --\\n----------->draw_interval(1)\\n----------->draw_interval(0)\\n----------->draw_line(1)        Output: -\\n----------->draw_interval(0)\\n->draw_line(4,'2')              Output: ---- 2\")"
   ]
  },
  {
   "cell_type": "code",
   "execution_count": 9,
   "metadata": {},
   "outputs": [
    {
     "name": "stdout",
     "output_type": "stream",
     "text": [
      "draw_ruler(2,4)\n",
      "-> draw_line(4,'0')             Output: ---------- 0\n",
      "For j in range (1,3):\n",
      "pada bagian j = 1\n",
      "---->draw_interval(3)\n",
      "------->draw_interval(2)\n",
      "----------->draw_interval(1)\n",
      "----------->draw_interval(0)\n",
      "----------->draw_line(1)        Output: -\n",
      "----------->draw_interval(0)\n",
      "------->draw_line(2)            Output: -----\n",
      "----------->draw_interval(1)\n",
      "----------->draw_interval(0)\n",
      "----------->draw_line(1)        Output: -\n",
      "----------->draw_interval(0)\n",
      "------->draw_line(3)            Output: ------\n",
      "------->draw_interval(2)\n",
      "----------->draw_interval(1)\n",
      "----------->draw_interval(0)\n",
      "----------->draw_line(1)        Output: -\n",
      "----------->draw_interval(0)\n",
      "------->draw_line(2)            Output: -----\n",
      "----------->draw_interval(1)\n",
      "----------->draw_interval(0)\n",
      "----------->draw_line(1)        Output: -\n",
      "----------->draw_interval(0)\n",
      "->draw_line(4,'1')              Output: ---------- 1\n",
      "pada bagian j = 2\n",
      "---->draw_interval(3) \n",
      "------->draw_interval(2)\n",
      "----------->draw_interval(1)\n",
      "----------->draw_interval(0)\n",
      "----------->draw_line(1)        Output: -\n",
      "----------->draw_interval(0)\n",
      "------->draw_line(2)            Output: -----\n",
      "----------->draw_interval(1)\n",
      "----------->draw_interval(0)\n",
      "----------->draw_line(1)        Output: -\n",
      "----------->draw_interval(0)\n",
      "------->draw_line(3)            Output: ------\n",
      "------->draw_interval(2)\n",
      "----------->draw_interval(1)\n",
      "----------->draw_interval(0)\n",
      "----------->draw_line(1)        Output: -\n",
      "----------->draw_interval(0)\n",
      "------->draw_line(2)            Output: -----\n",
      "----------->draw_interval(1)\n",
      "----------->draw_interval(0)\n",
      "----------->draw_line(1)        Output: -\n",
      "----------->draw_interval(0)\n",
      "->draw_line(4,'2')              Output: ---------- 2\n"
     ]
    }
   ],
   "source": [
    "print(f\"draw_ruler(2,4)\\n-> draw_line(4,'0')             Output: ---------- 0\\nFor j in range (1,3):\\npada bagian j = 1\\n---->draw_interval(3)\\n------->draw_interval(2)\\n----------->draw_interval(1)\\n----------->draw_interval(0)\\n----------->draw_line(1)        Output: -\\n----------->draw_interval(0)\\n------->draw_line(2)            Output: -----\\n----------->draw_interval(1)\\n----------->draw_interval(0)\\n----------->draw_line(1)        Output: -\\n----------->draw_interval(0)\\n------->draw_line(3)            Output: ------\\n------->draw_interval(2)\\n----------->draw_interval(1)\\n----------->draw_interval(0)\\n----------->draw_line(1)        Output: -\\n----------->draw_interval(0)\\n------->draw_line(2)            Output: -----\\n----------->draw_interval(1)\\n----------->draw_interval(0)\\n----------->draw_line(1)        Output: -\\n----------->draw_interval(0)\\n->draw_line(4,'1')              Output: ---------- 1\\npada bagian j = 2\\n---->draw_interval(3) \\n------->draw_interval(2)\\n----------->draw_interval(1)\\n----------->draw_interval(0)\\n----------->draw_line(1)        Output: -\\n----------->draw_interval(0)\\n------->draw_line(2)            Output: -----\\n----------->draw_interval(1)\\n----------->draw_interval(0)\\n----------->draw_line(1)        Output: -\\n----------->draw_interval(0)\\n------->draw_line(3)            Output: ------\\n------->draw_interval(2)\\n----------->draw_interval(1)\\n----------->draw_interval(0)\\n----------->draw_line(1)        Output: -\\n----------->draw_interval(0)\\n------->draw_line(2)            Output: -----\\n----------->draw_interval(1)\\n----------->draw_interval(0)\\n----------->draw_line(1)        Output: -\\n----------->draw_interval(0)\\n->draw_line(4,'2')              Output: ---------- 2\")"
   ]
  },
  {
   "cell_type": "code",
   "execution_count": null,
   "metadata": {},
   "outputs": [],
   "source": []
  }
 ],
 "metadata": {
  "kernelspec": {
   "display_name": "Python 3",
   "language": "python",
   "name": "python3"
  },
  "language_info": {
   "codemirror_mode": {
    "name": "ipython",
    "version": 3
   },
   "file_extension": ".py",
   "mimetype": "text/x-python",
   "name": "python",
   "nbconvert_exporter": "python",
   "pygments_lexer": "ipython3",
   "version": "3.10.12"
  }
 },
 "nbformat": 4,
 "nbformat_minor": 2
}
