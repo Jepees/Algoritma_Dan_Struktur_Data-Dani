{
 "cells": [
  {
   "cell_type": "code",
   "execution_count": 1,
   "metadata": {},
   "outputs": [
    {
     "ename": "SyntaxError",
     "evalue": "invalid syntax (3169578929.py, line 1)",
     "output_type": "error",
     "traceback": [
      "\u001b[1;36m  Cell \u001b[1;32mIn[1], line 1\u001b[1;36m\u001b[0m\n\u001b[1;33m    Algorithm add_first(L,e):\u001b[0m\n\u001b[1;37m              ^\u001b[0m\n\u001b[1;31mSyntaxError\u001b[0m\u001b[1;31m:\u001b[0m invalid syntax\n"
     ]
    }
   ],
   "source": [
    "Algorithm add_first(L,e):\n",
    "    newest = Node(e) {membuat node baru yang menyimpan referensi ke elemen e}\n",
    "    newest.next = L.head {atur node baru yang referensi selanjutnya adalah head node yang lama}\n",
    "    L.head = newest {atur variabel head untuk mereferensikan node baru}\n",
    "    L.size = L.size+1 {menambah jumlah node}"
   ]
  },
  {
   "cell_type": "code",
   "execution_count": null,
   "metadata": {},
   "outputs": [],
   "source": [
    "Algorithm add_last(L,e):\n",
    "    newest = Node(e) {membuat node baru yang menyimpan referensi ke elemen e}\n",
    "    newest.next = None {atur node baru yang referensi selanjutnya adalah object}\n",
    "    L.tail.next = newest {buat tail node yang lama menunjuk ke node baru}\n",
    "    L.tail = newest {atur variabel tail untuk mereferensikan node baru}\n",
    "    L.size = L.size+1 {menambah jumlah node}"
   ]
  },
  {
   "cell_type": "code",
   "execution_count": null,
   "metadata": {},
   "outputs": [
    {
     "ename": "SyntaxError",
     "evalue": "invalid syntax (3487185297.py, line 1)",
     "output_type": "error",
     "traceback": [
      "\u001b[1;36m  Cell \u001b[1;32mIn[1], line 1\u001b[1;36m\u001b[0m\n\u001b[1;33m    Algorithm remove_first(L):\u001b[0m\n\u001b[1;37m              ^\u001b[0m\n\u001b[1;31mSyntaxError\u001b[0m\u001b[1;31m:\u001b[0m invalid syntax\n"
     ]
    }
   ],
   "source": [
    "Algorithm remove_first(L):\n",
    "    if L.head is None then\n",
    "        Indicate an error: the list is empty.\n",
    "    L.head = L.head.next {buat head pint ke node selanjutnya (atau None)}\n",
    "    L.size = L.size-1 {kurangi jumlah node}"
   ]
  },
  {
   "cell_type": "code",
   "execution_count": null,
   "metadata": {},
   "outputs": [],
   "source": [
    "class Empty(Exception):\n",
    "    pass"
   ]
  },
  {
   "cell_type": "markdown",
   "metadata": {},
   "source": [
    "# LinkedStack"
   ]
  },
  {
   "cell_type": "code",
   "execution_count": null,
   "metadata": {},
   "outputs": [],
   "source": [
    "class LinkedStack:\n",
    "    \"\"\"LIFO Stack implementation using a singly linked list for storage.\"\"\"\n",
    "\n",
    "    #-------------------------- nested Node class --------------------------\n",
    "    class _Node:\n",
    "        \"\"\"Lightweight, nonpublic class for storing a singly linked node.\"\"\"\n",
    "        __slots__ = '_element' , '_next' # streamline memory usage\n",
    "\n",
    "        def __init__(self, element, next): # initialize node’s fields\n",
    "            self._element = element # reference to user’s element\n",
    "            self._next = next # reference to next node\n",
    "\n",
    "    #------------------------------- stack methods -------------------------------\n",
    "    def __init__(self):\n",
    "        \"\"\"Create an empty stack.\"\"\"\n",
    "        self._head = None # reference to the head node\n",
    "        self._size = 0 # number of stack elements\n",
    "\n",
    "    def __len__(self):\n",
    "        \"\"\"Return the number of elements in the stack.\"\"\"\n",
    "        return self._size\n",
    "\n",
    "    def is_empty(self):\n",
    "        \"\"\"Return True if the stack is empty.\"\"\"\n",
    "        return self._size == 0\n",
    "\n",
    "    def push(self, e):\n",
    "        \"\"\"Add element e to the top of the stack.\"\"\"\n",
    "        self._head = self._Node(e, self._head) # create and link a new node\n",
    "        self._size += 1\n",
    "\n",
    "    def top(self):\n",
    "        \"\"\"Return (but do not remove) the element at the top of the stack.\n",
    "        Raise Empty exception if the stack is empty.\n",
    "        \"\"\"\n",
    "        if self.is_empty():\n",
    "            raise Empty('Stack is empty')\n",
    "        return self._head._element # top of stack is at head of list\n",
    "\n",
    "    def pop(self):\n",
    "        \"\"\"Remove and return the element from the top of the stack (i.e., LIFO).\n",
    "        Raise Empty exception if the stack is empty.\n",
    "        \"\"\"\n",
    "        if self.is_empty():\n",
    "            raise Empty('Stack is empty')\n",
    "        answer = self._head._element\n",
    "        self._head = self._head._next # bypass the former top node\n",
    "        self._size -= 1\n",
    "        return answer"
   ]
  },
  {
   "cell_type": "markdown",
   "metadata": {},
   "source": [
    "# LinkedQueue"
   ]
  },
  {
   "cell_type": "code",
   "execution_count": 2,
   "metadata": {},
   "outputs": [],
   "source": [
    "class LinkedQueue:\n",
    "    \"\"\"FIFO queue implementation using a singly linked list for storage.\"\"\"\n",
    "\n",
    "    class _Node:\n",
    "        \"\"\"Lightweight, nonpublic class for storing a singly linked node.\"\"\"\n",
    "        __slots__ = '_element' , '_next' # streamline memory usage\n",
    "\n",
    "        def __init__(self, element, next): # initialize node’s fields\n",
    "            self._element = element # reference to user’s element\n",
    "            self._next = next # reference to next node\n",
    "\n",
    "    def __init__(self):\n",
    "        \"\"\"Create an empty queue.\"\"\"\n",
    "        self._head = None\n",
    "        self._tail = None\n",
    "        self._size = 0 # number of queue elements\n",
    "\n",
    "    def __len__(self):\n",
    "        \"\"\"Return the number of elements in the queue.\"\"\"\n",
    "        return self._size\n",
    "\n",
    "    def is_empty(self):\n",
    "        \"\"\"Return True if the queue is empty.\"\"\"\n",
    "        return self._size == 0\n",
    "\n",
    "    def first(self):\n",
    "        \"\"\"Return (but do not remove) the element at the front of the queue.\"\"\"\n",
    "        if self.is_empty():\n",
    "            raise Empty('Queue is empty')\n",
    "        return self._head._element # front aligned with head of list\n",
    "\n",
    "    def dequeue(self):\n",
    "        \"\"\"Remove and return the first element of the queue (i.e., FIFO).\n",
    "        Raise Empty exception if the queue is empty.\n",
    "        \"\"\"\n",
    "        if self.is_empty():\n",
    "            raise Empty('Queue is empty')\n",
    "        answer = self._head._element\n",
    "        self._head = self._head._next\n",
    "        self._size -= 1\n",
    "        if self.is_empty(): # special case as queue is empty\n",
    "            self._tail = None # removed head had been the tail\n",
    "        return answer\n",
    "\n",
    "    def enqueue(self, e):\n",
    "        \"\"\"Add an element to the back of queue.\"\"\"\n",
    "        newest = self._Node(e, None) # node will be new tail node\n",
    "        if self.is_empty():\n",
    "            self._head = newest # special case: previously empty\n",
    "        else:\n",
    "            self._tail._next = newest\n",
    "        self._tail = newest # update reference to tail node\n",
    "        self._size += 1"
   ]
  },
  {
   "cell_type": "code",
   "execution_count": 3,
   "metadata": {},
   "outputs": [
    {
     "data": {
      "text/plain": [
       "<__main__.LinkedQueue._Node at 0x27899fd4790>"
      ]
     },
     "execution_count": 3,
     "metadata": {},
     "output_type": "execute_result"
    }
   ],
   "source": [
    "Q = LinkedQueue()\n",
    "Q.enqueue(6)\n",
    "Q.enqueue(9)\n",
    "\n",
    "Q._head\n",
    "\n",
    "print(nested_list.pop())  # Output: 'b'\n",
    "print(nested_list)  # Output: ['c', ['d', None]]\n",
    "\n",
    "print(nested_list.pop())  # Output: 'c'\n",
    "print(nested_list)  # Output: ['d', None]\n",
    "\n",
    "print(nested_list.pop())  # Output: 'd'\n",
    "print(nested_list)  # Output: None"
   ]
  },
  {
   "cell_type": "markdown",
   "metadata": {},
   "source": [
    "# CircularQueue"
   ]
  },
  {
   "cell_type": "code",
   "execution_count": null,
   "metadata": {},
   "outputs": [],
   "source": [
    "class CircularQueue:\n",
    "    \"\"\"Queue implementation using circularly linked list for storage.\"\"\"\n",
    "\n",
    "    class _Node:\n",
    "        \"\"\"Lightweight, nonpublic class for storing a singly linked node.\"\"\"\n",
    "        __slots__ = '_element' , '_next' # streamline memory usage\n",
    "\n",
    "        def __init__(self, element, next): # initialize node’s fields\n",
    "            self._element = element # reference to user’s element\n",
    "            self._next = next # reference to next node\n",
    "            print(f'self._element: {self._element}, self._next: {self._next}')\n",
    "\n",
    "    def __init__(self):\n",
    "        print('DIBUAT BARU')\n",
    "        \"\"\"Create an empty queue.\"\"\"\n",
    "        self._tail = None # will represent tail of queue\n",
    "        self._size = 0 # number of queue elements\n",
    "        print(f'self._tail: {self._tail}, self._size: {self._size}\\n')\n",
    "    \n",
    "    def enqueue(self, e):\n",
    "        print(f'ENQUEUE {e}')\n",
    "        \"\"\"Add an element to the back of queue.\"\"\"\n",
    "        newest = self._Node(e, None) # node will be new tail node\n",
    "        if self.is_empty():\n",
    "            newest._next = newest # initialize circularly\n",
    "        else:\n",
    "            newest._next = self._tail._next # new node points to head\n",
    "            self._tail._next = newest # old tail points to new node\n",
    "        self._tail = newest # new node becomes the tail\n",
    "        self._size += 1\n",
    "        print(f'newest._next: {newest._next}, self._tail: {self._tail}\\n')\n",
    "    \n",
    "    def dequeue(self):\n",
    "        \"\"\"Remove and return the first element of the queue (i.e., FIFO).\n",
    "        Raise Empty exception if the queue is empty.\n",
    "        \"\"\"\n",
    "        if self.is_empty():\n",
    "            raise Empty('Queue is empty')\n",
    "        oldhead = self._tail._next\n",
    "        if self._size == 1: # removing only element\n",
    "            self._tail = None # queue becomes empty\n",
    "        else:\n",
    "            self._tail._next = oldhead._next # bypass the old head\n",
    "        self._size -= 1\n",
    "        return oldhead._element\n",
    "\n",
    "    def __len__(self):\n",
    "        \"\"\"Return the number of elements in the queue.\"\"\"\n",
    "        return self._size\n",
    "\n",
    "    def is_empty(self):\n",
    "        \"\"\"Return True if the queue is empty.\"\"\"\n",
    "        return self._size == 0\n",
    "\n",
    "    def first(self):\n",
    "        \"\"\"Return (but do not remove) the element at the front of the queue.\n",
    "        Raise Empty exception if the queue is empty.\n",
    "        \"\"\"\n",
    "        if self.is_empty():\n",
    "            raise Empty(\"Queue is empty\")\n",
    "        head = self._tail._next\n",
    "        return head._element\n",
    "\n",
    "    def rotate(self):\n",
    "        \"\"\"Rotate front element to the back of the queue.\"\"\"\n",
    "        if self._size > 0:\n",
    "            self._tail = self._tail._next # old head becomes new tail"
   ]
  },
  {
   "cell_type": "code",
   "execution_count": null,
   "metadata": {},
   "outputs": [
    {
     "name": "stdout",
     "output_type": "stream",
     "text": [
      "DIBUAT BARU\n",
      "self._tail: None, self._size: 0\n",
      "\n",
      "ENQUEUE 5\n",
      "self._element: 5, self._next: None\n",
      "newest._next: <__main__.CircularQueue._Node object at 0x0000026701CE3550>, self._tail: <__main__.CircularQueue._Node object at 0x0000026701CE3550>\n",
      "\n",
      "ENQUEUE 4\n",
      "self._element: 4, self._next: None\n",
      "newest._next: <__main__.CircularQueue._Node object at 0x0000026701CE3550>, self._tail: <__main__.CircularQueue._Node object at 0x0000026701CE3C70>\n",
      "\n",
      "ENQUEUE 3\n",
      "self._element: 3, self._next: None\n",
      "newest._next: <__main__.CircularQueue._Node object at 0x0000026701CE3550>, self._tail: <__main__.CircularQueue._Node object at 0x0000026701CE2FE0>\n",
      "\n",
      "ENQUEUE 2\n",
      "self._element: 2, self._next: None\n",
      "newest._next: <__main__.CircularQueue._Node object at 0x0000026701CE3550>, self._tail: <__main__.CircularQueue._Node object at 0x0000026701CE2AD0>\n",
      "\n",
      "ENQUEUE 1\n",
      "self._element: 1, self._next: None\n",
      "newest._next: <__main__.CircularQueue._Node object at 0x0000026701CE3550>, self._tail: <__main__.CircularQueue._Node object at 0x0000026701CE27D0>\n",
      "\n"
     ]
    },
    {
     "data": {
      "text/plain": [
       "3"
      ]
     },
     "execution_count": 38,
     "metadata": {},
     "output_type": "execute_result"
    }
   ],
   "source": [
    "cq = CircularQueue()\n",
    "cq.enqueue(5)\n",
    "cq.enqueue(4)\n",
    "cq.enqueue(3)\n",
    "cq.enqueue(2)\n",
    "cq.enqueue(1)\n",
    "cq.dequeue()\n",
    "\n",
    "cq.is_empty()\n",
    "cq.__len__()\n",
    "cq.first()\n",
    "cq.rotate()\n",
    "cq.first()"
   ]
  },
  {
   "cell_type": "markdown",
   "metadata": {},
   "source": [
    "# Doubly Linked List"
   ]
  },
  {
   "cell_type": "code",
   "execution_count": null,
   "metadata": {},
   "outputs": [],
   "source": [
    "class DoublyLinkedBase:\n",
    "    \"\"\"A base class providing a doubly linked list representation.\"\"\"\n",
    "\n",
    "    class _Node:\n",
    "        \"\"\"Lightweight, nonpublic class for storing a doubly linked node.\"\"\"\n",
    "        # (omitted here; see_previous code fragment)\n",
    "\n",
    "    def __init__(self):\n",
    "        \"\"\"Create an empty list.\"\"\"\n",
    "        self._header = self._Node(None, None, None)\n",
    "        self._trailer = self._Node(None, None, None)\n",
    "        self._header._next = self._trailer #_trailer is after _header\n",
    "        self._trailer._prev = self._header #_header is before _trailer\n",
    "        self._size = 0 # number of elements\n",
    "\n",
    "    def __len__(self):\n",
    "        \"\"\"Return the number of elements in the list.\"\"\"\n",
    "        return self._size\n",
    "\n",
    "    def is_empty(self):\n",
    "        \"\"\"Return True if list is empty.\"\"\"\n",
    "        return self._size == 0\n",
    "\n",
    "    def _insert_between(self, e, predecessor, successor):\n",
    "        \"\"\"Add element e between two existing nodes and return new node.\"\"\"\n",
    "        newest = self._Node(e, predecessor, successor) # linked to neighbors\n",
    "        predecessor._next = newest\n",
    "        successor._prev = newest\n",
    "        self._size += 1\n",
    "        return newest\n",
    "\n",
    "    def _delete_node(self, node):\n",
    "        \"\"\"Delete nonsentinel node from the list and return its element.\"\"\"\n",
    "        predecessor = node._prev\n",
    "        successor = node._next\n",
    "        predecessor._next = successor\n",
    "        successor._prev = predecessor\n",
    "        self._size -= 1\n",
    "        element = node._element # record deleted element\n",
    "        node._prev = node._next = node._element = None # deprecate node\n",
    "        return element # return deleted element"
   ]
  },
  {
   "cell_type": "markdown",
   "metadata": {},
   "source": [
    "# Deque Doubly Linked List"
   ]
  },
  {
   "cell_type": "code",
   "execution_count": null,
   "metadata": {},
   "outputs": [
    {
     "ename": "NameError",
     "evalue": "name '_DoublyLinkedBase' is not defined",
     "output_type": "error",
     "traceback": [
      "\u001b[1;31m---------------------------------------------------------------------------\u001b[0m",
      "\u001b[1;31mNameError\u001b[0m                                 Traceback (most recent call last)",
      "Cell \u001b[1;32mIn[1], line 1\u001b[0m\n\u001b[1;32m----> 1\u001b[0m \u001b[38;5;28;01mclass\u001b[39;00m \u001b[38;5;21;01mLinkedDeque\u001b[39;00m(\u001b[43m_DoublyLinkedBase\u001b[49m): \u001b[38;5;66;03m# note the use of inheritance\u001b[39;00m\n\u001b[0;32m      2\u001b[0m \u001b[38;5;250m    \u001b[39m\u001b[38;5;124;03m\"\"\"Double-ended queue implementation based on a doubly linked list.\"\"\"\u001b[39;00m\n\u001b[0;32m      4\u001b[0m     \u001b[38;5;28;01mdef\u001b[39;00m \u001b[38;5;21mfirst\u001b[39m(\u001b[38;5;28mself\u001b[39m):\n",
      "\u001b[1;31mNameError\u001b[0m: name '_DoublyLinkedBase' is not defined"
     ]
    }
   ],
   "source": [
    "class LinkedDeque(_DoublyLinkedBase): # note the use of inheritance\n",
    "    \"\"\"Double-ended queue implementation based on a doubly linked list.\"\"\"\n",
    "\n",
    "    def first(self):\n",
    "        \"\"\"Return (but do not remove) the element at the front of the deque.\"\"\"\n",
    "        if self.is_empty():\n",
    "            raise Empty(\"Deque is empty\")\n",
    "        return self._header._next._element # real item just after header\n",
    "\n",
    "    def last(self):\n",
    "        \"\"\"Return (but do not remove) the_element at the back of the deque.\"\"\"\n",
    "        if self.is_empty( ):\n",
    "            raise Empty(\"Deque is empty\")\n",
    "        return self._trailer._prev._element # real item just before trailer\n",
    "\n",
    "    def insert_first(self, e):\n",
    "        \"\"\"Add an element to the front of the deque.\"\"\"\n",
    "        self._insert_between(e, self._header, self._header._next) # after header\n",
    "\n",
    "    def insert_last(self, e):\n",
    "        \"\"\"Add an element to the back of the deque.\"\"\"\n",
    "        self._insert_between(e, self._trailer._prev, self._trailer) # before trailer\n",
    "\n",
    "    def delete_first(self):\n",
    "        \"\"\"Remove and return the_element from the front of the deque.\n",
    "\n",
    "        Raise Empty exception if the deque is empty.\n",
    "        \"\"\"\n",
    "        if self.is_empty():\n",
    "            raise Empty(\"Deque is empty\")\n",
    "        return self._delete_node(self._header._next) # use inherited method\n",
    "\n",
    "    def delete_last(self):\n",
    "        \"\"\"Remove and return the_element from the back of the deque.\n",
    "\n",
    "        Raise Empty exception if the deque is empty.\n",
    "        \"\"\"\n",
    "        if self.is_empty():\n",
    "            raise Empty(\"Deque is empty\")\n",
    "        return self._delete_node(self._trailer._prev) # use inherited method"
   ]
  }
 ],
 "metadata": {
  "kernelspec": {
   "display_name": "Python 3",
   "language": "python",
   "name": "python3"
  },
  "language_info": {
   "codemirror_mode": {
    "name": "ipython",
    "version": 3
   },
   "file_extension": ".py",
   "mimetype": "text/x-python",
   "name": "python",
   "nbconvert_exporter": "python",
   "pygments_lexer": "ipython3",
   "version": "3.10.12"
  }
 },
 "nbformat": 4,
 "nbformat_minor": 2
}
