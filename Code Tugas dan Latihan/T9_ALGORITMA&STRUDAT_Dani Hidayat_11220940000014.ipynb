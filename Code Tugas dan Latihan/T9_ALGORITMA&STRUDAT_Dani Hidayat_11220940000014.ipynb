{
 "cells": [
  {
   "cell_type": "code",
   "execution_count": 1,
   "metadata": {},
   "outputs": [],
   "source": [
    "def TanpaNone(arr):\n",
    "    isi = [i for i in arr if i!=None]\n",
    "    return isi"
   ]
  },
  {
   "cell_type": "code",
   "execution_count": 2,
   "metadata": {},
   "outputs": [],
   "source": [
    "class ArrayStack:\n",
    "    \"\"\"LIFO Stack implementation using a Python list as underlying storage.\"\"\"\n",
    "\n",
    "    def __init__ (self):\n",
    "        \"\"\"Create an empty stack.\"\"\"\n",
    "        self._data = [] # nonpublic list instance\n",
    "\n",
    "    def __len__(self):\n",
    "        \"\"\"Return the number of elements in the stack.\"\"\"\n",
    "        return len(self._data)\n",
    "\n",
    "    def is_empty(self):\n",
    "        \"\"\"Return True if the stack is empty.\"\"\"\n",
    "        return len(self._data) == 0\n",
    "\n",
    "    def push(self, e):\n",
    "        \"\"\"Add element e to the top of the stack.\"\"\"\n",
    "        self._data.append(e) # new item stored at end of list\n",
    "\n",
    "    def top(self):\n",
    "        \"\"\"Return (but do not remove) the element at the top of the stack.\n",
    "        Raise Empty exception if the stack is empty.\"\"\"\n",
    "        if self.is_empty():\n",
    "            raise Empty(\"Stack is empty\")\n",
    "        return self._data[-1] # the last item in the list\n",
    "\n",
    "    def pop(self):\n",
    "        \"\"\"Remove and return the element from the top of the stack (i.e., LIFO).\n",
    "        Raise Empty exception if the stack is empty.\"\"\"\n",
    "        if self.is_empty( ):\n",
    "            raise Empty(\"Stack is empty\")\n",
    "        return self._data.pop( ) # remove last item from list"
   ]
  },
  {
   "cell_type": "code",
   "execution_count": 3,
   "metadata": {},
   "outputs": [
    {
     "name": "stdout",
     "output_type": "stream",
     "text": [
      "Stack Saat ini: []\n",
      "S.push(5) | Stack Saat ini: [5]\n",
      "S.push(3) | Stack Saat ini: [5, 3]\n",
      "S.pop     | Stack Saat ini: [5]\n",
      "S.push(2) | Stack Saat ini: [5, 2]\n",
      "S.push(8) | Stack Saat ini: [5, 2, 8]\n",
      "S.pop     | Stack Saat ini: [5, 2]\n",
      "S.pop     | Stack Saat ini: [5]\n",
      "S.push(9) | Stack Saat ini: [5, 9]\n",
      "S.push(1) | Stack Saat ini: [5, 9, 1]\n",
      "S.pop     | Stack Saat ini: [5, 9]\n",
      "S.push(7) | Stack Saat ini: [5, 9, 7]\n",
      "S.push(6) | Stack Saat ini: [5, 9, 7, 6]\n",
      "S.pop     | Stack Saat ini: [5, 9, 7]\n",
      "S.pop     | Stack Saat ini: [5, 9]\n",
      "S.push(4) | Stack Saat ini: [5, 9, 4]\n",
      "S.pop     | Stack Saat ini: [5, 9]\n",
      "S.pop     | Stack Saat ini: [5]\n"
     ]
    },
    {
     "data": {
      "text/plain": [
       "<bound method ArrayStack.is_empty of <__main__.ArrayStack object at 0x0000022BC17CB0A0>>"
      ]
     },
     "execution_count": 3,
     "metadata": {},
     "output_type": "execute_result"
    }
   ],
   "source": [
    "S = ArrayStack()\n",
    "print(f'Stack Saat ini: {S._data}')\n",
    "S.push(5), print(f'S.push(5) | Stack Saat ini: {S._data}')\n",
    "S.push(3), print(f'S.push(3) | Stack Saat ini: {S._data}') \n",
    "S.pop(), print(f'S.pop     | Stack Saat ini: {S._data}') \n",
    "S.push(2), print(f'S.push(2) | Stack Saat ini: {S._data}') \n",
    "S.push(8), print(f'S.push(8) | Stack Saat ini: {S._data}') \n",
    "S.pop(), print(f'S.pop     | Stack Saat ini: {S._data}') \n",
    "S.pop(), print(f'S.pop     | Stack Saat ini: {S._data}') \n",
    "S.push(9), print(f'S.push(9) | Stack Saat ini: {S._data}') \n",
    "S.push(1), print(f'S.push(1) | Stack Saat ini: {S._data}') \n",
    "S.pop(), print(f'S.pop     | Stack Saat ini: {S._data}') \n",
    "S.push(7), print(f'S.push(7) | Stack Saat ini: {S._data}') \n",
    "S.push(6), print(f'S.push(6) | Stack Saat ini: {S._data}') \n",
    "S.pop(), print(f'S.pop     | Stack Saat ini: {S._data}') \n",
    "S.pop(), print(f'S.pop     | Stack Saat ini: {S._data}') \n",
    "S.push(4), print(f'S.push(4) | Stack Saat ini: {S._data}') \n",
    "S.pop(), print(f'S.pop     | Stack Saat ini: {S._data}') \n",
    "S.pop(), print(f'S.pop     | Stack Saat ini: {S._data}') \n",
    "S.is_empty"
   ]
  },
  {
   "cell_type": "markdown",
   "metadata": {},
   "source": [
    "6.7"
   ]
  },
  {
   "cell_type": "code",
   "execution_count": 2,
   "metadata": {},
   "outputs": [],
   "source": [
    "class ArrayQueue:\n",
    "    \"\"\"FIFO queue implementation using a Python list as underlying storage.\"\"\"\n",
    "    DEFAULT_CAPACITY = 10 # moderate capacity for all new queues\n",
    "\n",
    "    def __init__(self):\n",
    "        \"\"\"Create an empty queue.\"\"\"\n",
    "        self._data = [None] * ArrayQueue.DEFAULT_CAPACITY\n",
    "        self._size = 0\n",
    "        self._front = 0\n",
    "\n",
    "    def __len__(self):\n",
    "        \"\"\"Return the number of elements in the queue.\"\"\"\n",
    "        return self._size\n",
    "\n",
    "    def is_empty(self):\n",
    "        \"\"\"Return True if the queue is empty.\"\"\"\n",
    "        return self._size == 0\n",
    "\n",
    "    def first(self):\n",
    "        \"\"\"Return (but do not remove) the element at the front of the queue.\n",
    "        Raise Empty exception if the queue is empty.\"\"\"\n",
    "        if self.is_empty():\n",
    "            raise Empty('Queue is empty')\n",
    "        return self._data[self._front]\n",
    "\n",
    "    def dequeue(self):\n",
    "        \"\"\"Remove and return the first element of the queue (i.e., FIFO).\n",
    "        Raise Empty exception if the queue is empty.\"\"\"\n",
    "        if self.is_empty():\n",
    "            raise Empty('Queue is empty')\n",
    "        answer = self._data[self._front]\n",
    "        self._data[self._front] = None # help garbage collection\n",
    "        self._front = (self._front + 1) % len(self._data)\n",
    "        self._size -= 1\n",
    "        return answer\n",
    "\n",
    "    def enqueue(self, e):\n",
    "        \"\"\"Add an element to the back of queue.\"\"\"\n",
    "        if self._size == len(self._data):\n",
    "            self._resize(2*len(self.data)) # double the array size\n",
    "        avail = (self._front + self._size) % len(self._data)\n",
    "        self._data[avail] = e\n",
    "        self._size += 1\n",
    "\n",
    "    def _resize(self, cap): # we assume cap >= len(self)\n",
    "        \"\"\"Resize to a new list of capacity >= len(self).\"\"\"\n",
    "        old = self._data # keep track of existing list\n",
    "        self._data = [None]*cap # allocate list with new capacity\n",
    "        walk = self._front\n",
    "        for k in range(self._size): # only consider existing elements\n",
    "            self._data[k] = old[walk] # intentionally shift indices\n",
    "            walk = (1 + walk) % len(old) # use old size as modulus\n",
    "        self._front = 0 # front has been realigned"
   ]
  },
  {
   "cell_type": "code",
   "execution_count": 3,
   "metadata": {},
   "outputs": [
    {
     "name": "stdout",
     "output_type": "stream",
     "text": [
      "isi Queue saat ini: [None, None, None, None, None, None, None, None, None, None] | []\n",
      "AQ.enqueue(5) | isi Queue saat ini: [5]\n",
      "AQ.enqueue(3) | isi Queue saat ini: [5, 3]\n",
      "AQ.dequeue()  | isi Queue saat ini: [3]\n",
      "AQ.enqueue(2) | isi Queue saat ini: [3, 2]\n",
      "AQ.enqueue(8) | isi Queue saat ini: [3, 2, 8]\n",
      "AQ.dequeue()  | isi Queue saat ini: [2, 8]\n",
      "AQ.dequeue()  | isi Queue saat ini: [8]\n",
      "AQ.enqueue(9) | isi Queue saat ini: [8, 9]\n",
      "AQ.enqueue(1) | isi Queue saat ini: [8, 9, 1]\n",
      "AQ.dequeue()  | isi Queue saat ini: [9, 1]\n",
      "AQ.enqueue(7) | isi Queue saat ini: [9, 1, 7]\n",
      "AQ.enqueue(6) | isi Queue saat ini: [9, 1, 7, 6]\n",
      "AQ.dequeue()  | isi Queue saat ini: [1, 7, 6]\n",
      "AQ.dequeue()  | isi Queue saat ini: [7, 6]\n",
      "AQ.enqueue(4) | isi Queue saat ini: [7, 6, 4]\n",
      "AQ.dequeue()  | isi Queue saat ini: [6, 4]\n",
      "AQ.dequeue()  | isi Queue saat ini: [4]\n",
      "hasil akhir queue: [None, None, None, None, None, None, None, None, 4, None] | [4]\n"
     ]
    }
   ],
   "source": [
    "AQ = ArrayQueue()\n",
    "print(f'isi Queue saat ini: {AQ._data} | {TanpaNone(AQ._data)}')\n",
    "AQ.enqueue(5), print(f'AQ.enqueue(5) | isi Queue saat ini: {TanpaNone(AQ._data)}')\n",
    "AQ.enqueue(3), print(f'AQ.enqueue(3) | isi Queue saat ini: {TanpaNone(AQ._data)}')\n",
    "AQ.dequeue(), print(f'AQ.dequeue()  | isi Queue saat ini: {TanpaNone(AQ._data)}')\n",
    "AQ.enqueue(2), print(f'AQ.enqueue(2) | isi Queue saat ini: {TanpaNone(AQ._data)}')\n",
    "AQ.enqueue(8), print(f'AQ.enqueue(8) | isi Queue saat ini: {TanpaNone(AQ._data)}')\n",
    "AQ.dequeue(), print(f'AQ.dequeue()  | isi Queue saat ini: {TanpaNone(AQ._data)}')\n",
    "AQ.dequeue(), print(f'AQ.dequeue()  | isi Queue saat ini: {TanpaNone(AQ._data)}')\n",
    "AQ.enqueue(9), print(f'AQ.enqueue(9) | isi Queue saat ini: {TanpaNone(AQ._data)}')\n",
    "AQ.enqueue(1), print(f'AQ.enqueue(1) | isi Queue saat ini: {TanpaNone(AQ._data)}')\n",
    "AQ.dequeue(), print(f'AQ.dequeue()  | isi Queue saat ini: {TanpaNone(AQ._data)}')\n",
    "AQ.enqueue(7), print(f'AQ.enqueue(7) | isi Queue saat ini: {TanpaNone(AQ._data)}')\n",
    "AQ.enqueue(6), print(f'AQ.enqueue(6) | isi Queue saat ini: {TanpaNone(AQ._data)}')\n",
    "AQ.dequeue(), print(f'AQ.dequeue()  | isi Queue saat ini: {TanpaNone(AQ._data)}')\n",
    "AQ.dequeue(), print(f'AQ.dequeue()  | isi Queue saat ini: {TanpaNone(AQ._data)}')\n",
    "AQ.enqueue(4), print(f'AQ.enqueue(4) | isi Queue saat ini: {TanpaNone(AQ._data)}')\n",
    "AQ.dequeue(), print(f'AQ.dequeue()  | isi Queue saat ini: {TanpaNone(AQ._data)}')\n",
    "AQ.dequeue(), print(f'AQ.dequeue()  | isi Queue saat ini: {TanpaNone(AQ._data)}')\n",
    "print(f'hasil akhir queue: {AQ._data} | {TanpaNone(AQ._data)}')\n"
   ]
  },
  {
   "cell_type": "markdown",
   "metadata": {},
   "source": [
    "6.12"
   ]
  },
  {
   "cell_type": "code",
   "execution_count": 32,
   "metadata": {},
   "outputs": [],
   "source": [
    "class ArrayDeque():\n",
    "    \"\"\"Deque implementation using python list\"\"\"\n",
    "\n",
    "    def __init__(self):\n",
    "        \"\"\"Create an empty list\"\"\"\n",
    "        self._data = []\n",
    "\n",
    "    def __len__(self):\n",
    "        \"\"\"Return the number elements of deque\"\"\"\n",
    "        return len(self._data)\n",
    "\n",
    "    def is_empty(self):\n",
    "        \"\"\"Return True if the stack is empty.\"\"\"\n",
    "        return len(self._data) == 0\n",
    "\n",
    "    def add_first(self, e):\n",
    "        \"\"\"Add an element to the front of deque\"\"\"\n",
    "        self._data.insert(0, e)\n",
    "\n",
    "    def add_last(self, e):\n",
    "        \"\"\"Add an element to the back of deque\"\"\"\n",
    "        self._data.append(e)\n",
    "\n",
    "    def delete_first(self):\n",
    "        \"\"\"Remove an element at the front\"\"\"\n",
    "        if self.is_empty():\n",
    "            raise Empty('Deque is empty')\n",
    "        del self._data[0]\n",
    "\n",
    "    def delete_last(self):\n",
    "        \"\"\"Remove an element at the back\"\"\"\n",
    "        if self.is_empty():\n",
    "            raise Empty('Deque is empty')\n",
    "        return self._data.pop()\n",
    "\n",
    "    def first(self):\n",
    "        \"\"\"Return (but do not remove) the element at the front of the deque.\n",
    "        Raise Empty exception if the queue is empty.\"\"\"\n",
    "        if self.is_empty():\n",
    "            raise Empty('Deque is empty')\n",
    "        return self._data[0]\n",
    "\n",
    "    def last(self):\n",
    "        \"\"\"Return (but do not remove) the element at the back of the deque.\n",
    "        Raise Empty exception if the queue is empty.\"\"\"\n",
    "        if self.is_empty():\n",
    "            raise Empty('Deque is empty')\n",
    "        return self._data[-1]"
   ]
  },
  {
   "cell_type": "code",
   "execution_count": 122,
   "metadata": {},
   "outputs": [
    {
     "name": "stdout",
     "output_type": "stream",
     "text": [
      "isi deque saat ini: []\n",
      "Deku.add_first(4)   | isi deque saat ini: [4]\n",
      "Deku.add_last(4)    | isi deque saat ini: [4, 8]\n",
      "Deku.add_last(4)    | isi deque saat ini: [4, 8, 9]\n",
      "Deku.add_first(5)   | isi deque saat ini: [5, 4, 8, 9]\n",
      "Deku.last()         | isi deque saat ini: [5, 4, 8, 9]\n",
      "Deku.delete_first() | isi deque saat ini: [4, 8, 9]\n",
      "Deku.delete_last()  | isi deque saat ini: [4, 8]\n",
      "Deku.add_last(7)    | isi deque saat ini: [4, 8, 7]\n",
      "Deku.delete_first() | isi deque saat ini: [4, 8, 7]\n",
      "Deku.last()         | isi deque saat ini: [4, 8, 7]\n",
      "Deku.add_last(6)    | isi deque saat ini: [4, 8, 7, 6]\n",
      "Deku.delete_first() | isi deque saat ini: [8, 7, 6]\n",
      "Deku.delete_first() | isi deque saat ini: [7, 6]\n"
     ]
    },
    {
     "data": {
      "text/plain": [
       "[7, 6]"
      ]
     },
     "execution_count": 122,
     "metadata": {},
     "output_type": "execute_result"
    }
   ],
   "source": [
    "Deku = ArrayDeque()\n",
    "print(f'isi deque saat ini: {Deku._data}')\n",
    "Deku.add_first(4), print(f'Deku.add_first(4)   | isi deque saat ini: {Deku._data}')\n",
    "Deku.add_last(8), print(f'Deku.add_last(4)    | isi deque saat ini: {Deku._data}')\n",
    "Deku.add_last(9), print(f'Deku.add_last(4)    | isi deque saat ini: {Deku._data}')\n",
    "Deku.add_first(5), print(f'Deku.add_first(5)   | isi deque saat ini: {Deku._data}')\n",
    "#Deku.back()\n",
    "Deku.last(), print(f'Deku.last()         | isi deque saat ini: {Deku._data}')\n",
    "Deku.delete_first(), print(f'Deku.delete_first() | isi deque saat ini: {Deku._data}')\n",
    "Deku.delete_last(), print(f'Deku.delete_last()  | isi deque saat ini: {Deku._data}')\n",
    "Deku.add_last(7), print(f'Deku.add_last(7)    | isi deque saat ini: {Deku._data}')\n",
    "Deku.first(), print(f'Deku.delete_first() | isi deque saat ini: {Deku._data}')\n",
    "Deku.last(), print(f'Deku.last()         | isi deque saat ini: {Deku._data}')\n",
    "Deku.add_last(6), print(f'Deku.add_last(6)    | isi deque saat ini: {Deku._data}')\n",
    "Deku.delete_first(), print(f'Deku.delete_first() | isi deque saat ini: {Deku._data}')\n",
    "Deku.delete_first(), print(f'Deku.delete_first() | isi deque saat ini: {Deku._data}')\n",
    "Deku._data\n"
   ]
  },
  {
   "cell_type": "markdown",
   "metadata": {},
   "source": [
    "6.10"
   ]
  },
  {
   "cell_type": "markdown",
   "metadata": {},
   "source": [
    "KASUS 1: ketika melakukan queuing melebihi jumlah wadah yang tersedia dan melakukan Dequeing sebelumnya\n",
    "- Pada loop normal (sebelum perubahan)\n",
    "```\n",
    "def _resize(self, cap): # we assume cap >= len(self)\n",
    "        \"\"\"Resize to a new list of capacity >= len(self).\"\"\"\n",
    "        old = self._data # keep track of existing list\n",
    "        self._data = [None]*cap # allocate list with new capacity\n",
    "        walk = self._front\n",
    "        for k in range(self._size): # only consider existing elements\n",
    "            self._data[k] = old[walk] # intentionally shift indices\n",
    "            walk = (1 + walk) % len(old) # use old size as modulus\n",
    "        self._front = 0 # front has been realigned\n",
    "```\n",
    "\n",
    "Ketika kita ingin memasukan elemen baru dan wadah masih berisi None di sebelah kanan elemen terakhir yang bukan None, elemen akan ditaruh sesuai dengan wadah yang kosong tersebut. Namun ketika semua wadah di sebelah kanan elemen terakhir yang bukan None sudah terisi semua, elemen yang akan dimasukkan akan diletakkan di None sebelah kiri elemen2 yang bukan none. Selanjutnya, jika kedua kejadian tadi sudah terjadi dan kita ingin memasukkan elemen lagi, element dengan indeks front akan dipindahkan ke indeks ke-0 dan semua selanjutnya akan disusun di sebelah kanan elemen tadi, kemudian panjang dari array akan dikali 2 lalu elemen tadi yang ingin kita masukkan akan diletakkan di indeks ke-11, terakhir variabel front diupdate ulang menjadi 0.\n",
    "\n",
    "- Namun pada loop yang sudah dilakukan perubahan\n",
    "\n",
    "\n",
    "```\n",
    "def _resize(self, cap): # we assume cap >= len(self)\n",
    "        \"\"\"Resize to a new list of capacity >= len(self).\"\"\"\n",
    "        old = self._data # keep track of existing list\n",
    "        self._data = [None]*cap # allocate list with new capacity\n",
    "        walk = self._front\n",
    "        for k in range(self._size): # only consider existing elements\n",
    "            self._data[k] = old[k] # intentionally shift indices\n",
    "            walk = (1 + walk) % len(old) # use old size as modulus\n",
    "        self._front = 0 # front has been realigned\n",
    "```\n",
    "\n",
    "\n",
    "Ketika kita ingin memasukan elemen baru dan wadah masih berisi None di sebelah kanan elemen terakhir yang bukan None, elemen akan ditaruh sesuai dengan wadah yang kosong tersebut. Namun ketika semua wadah di sebelah kanan elemen terakhir yang bukan None sudah terisi semua, elemen yang akan dimasukkan akan diletakkan di None sebelah kiri elemen2 yang bukan none. Selanjutnya, jika kedua kejadian tadi sudah terjadi dan kita ingin memasukkan elemen lagi, yang terjadi hanya kita memperpanjang array menjadi 2x lipat kemudian memasukkan elemen yang baru tersebut ke indeks ke-11 tanpa mengubah urutan array sebelumnya, selanjutnya variabel front diupdate menjadi 0. hal ini akan menyebabkan nilai front salah, karena array pada indeks ke-0 sampai ke-9 tidak berubah namun front diubah."
   ]
  },
  {
   "cell_type": "markdown",
   "metadata": {},
   "source": [
    "KASUS 2: Ketika kita akan melakukan resize secara manual:\n",
    "- List baru hanya memotong list lama menjadi sepanjang input(cap), kemudian merubah self._front menjadi 0."
   ]
  }
 ],
 "metadata": {
  "kernelspec": {
   "display_name": "Python 3",
   "language": "python",
   "name": "python3"
  },
  "language_info": {
   "codemirror_mode": {
    "name": "ipython",
    "version": 3
   },
   "file_extension": ".py",
   "mimetype": "text/x-python",
   "name": "python",
   "nbconvert_exporter": "python",
   "pygments_lexer": "ipython3",
   "version": "3.10.12"
  }
 },
 "nbformat": 4,
 "nbformat_minor": 2
}
