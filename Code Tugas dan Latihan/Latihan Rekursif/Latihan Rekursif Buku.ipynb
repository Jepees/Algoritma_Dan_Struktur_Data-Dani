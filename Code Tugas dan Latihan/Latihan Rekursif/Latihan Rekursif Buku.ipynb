{
 "cells": [
  {
   "cell_type": "code",
   "execution_count": 1,
   "metadata": {},
   "outputs": [
    {
     "name": "stdout",
     "output_type": "stream",
     "text": [
      "5\n"
     ]
    }
   ],
   "source": [
    "#R-4.1\n",
    "def maxi(lst, mx=None):\n",
    "    if len(lst)==0:\n",
    "        return print(mx)\n",
    "    else:\n",
    "        if mx==None or lst[0]>mx:\n",
    "            mx = lst[0]\n",
    "            return maxi(lst[1:], mx)\n",
    "        else:\n",
    "            return maxi(lst[1:], mx)\n",
    "        \n",
    "coba1 = [-5,-4,-3,-2,-1,0,1,2,3,5,4]\n",
    "maxi(coba1)"
   ]
  },
  {
   "cell_type": "code",
   "execution_count": 2,
   "metadata": {},
   "outputs": [
    {
     "data": {
      "text/plain": [
       "2.083333333333333"
      ]
     },
     "execution_count": 2,
     "metadata": {},
     "output_type": "execute_result"
    }
   ],
   "source": [
    "#R-4.6\n",
    "def harmonik(n):\n",
    "    if n==1:\n",
    "        return 1\n",
    "    else:\n",
    "        return (1/n)+harmonik(n-1)\n",
    "\n",
    "harmonik(4)"
   ]
  },
  {
   "cell_type": "code",
   "execution_count": 3,
   "metadata": {},
   "outputs": [],
   "source": [
    "#R-4.7\n"
   ]
  },
  {
   "cell_type": "code",
   "execution_count": 4,
   "metadata": {},
   "outputs": [
    {
     "name": "stdout",
     "output_type": "stream",
     "text": [
      "minimum:  -71 \n",
      "maximum:  97\n"
     ]
    }
   ],
   "source": [
    "#C-4.9\n",
    "def minimax(lst, mn=None, mx=None):\n",
    "    if len(lst)==0:\n",
    "        return print('minimum: ', mn, '\\nmaximum: ', mx)\n",
    "    else:\n",
    "        if mx==None or lst[0]>mx:\n",
    "            mx=lst[0]\n",
    "            return minimax(lst[1:], mn, mx)\n",
    "        if mn==None or lst[0]<mn:\n",
    "            mn=lst[0]\n",
    "            return minimax(lst[1:], mn, mx)\n",
    "        else:\n",
    "            return minimax(lst[1:], mn, mx)\n",
    "        \n",
    "coba3 = [15,4,1,-2,-5,3,7,88,97,-71,4,6,3,2,5,7,8,0]\n",
    "minimax(coba3)"
   ]
  },
  {
   "cell_type": "code",
   "execution_count": 5,
   "metadata": {},
   "outputs": [
    {
     "name": "stdout",
     "output_type": "stream",
     "text": [
      "2log 0  =  0\n",
      "2log 1  =  0\n",
      "2log 2  =  1\n",
      "2log 3  =  1\n",
      "2log 4  =  2\n",
      "2log 5  =  2\n",
      "2log 6  =  2\n",
      "2log 7  =  2\n",
      "2log 8  =  3\n",
      "2log 9  =  3\n",
      "2log 10  =  3\n",
      "2log 11  =  3\n",
      "2log 12  =  3\n",
      "2log 13  =  3\n",
      "2log 14  =  3\n",
      "2log 15  =  3\n",
      "2log 16  =  4\n",
      "2log 17  =  4\n",
      "2log 18  =  4\n",
      "2log 19  =  4\n"
     ]
    }
   ],
   "source": [
    "#C-4.10\n",
    "def log2(n):\n",
    "    if n<=1:\n",
    "        return 0\n",
    "    else:\n",
    "        return log2(n//2)+1\n",
    "\n",
    "for i in range(0,20):\n",
    "    print('2log',i,' = ',log2(i))"
   ]
  },
  {
   "cell_type": "code",
   "execution_count": 6,
   "metadata": {},
   "outputs": [
    {
     "name": "stdout",
     "output_type": "stream",
     "text": [
      "['m']\n",
      "['m', 'a']\n",
      "['m', 'a', 'l']\n",
      "['m', 'a', 'l', 'k']\n",
      "['m', 'a', 'l', 'k', 'n']\n",
      "['m', 'a', 'l', 'k', 'n', 's']\n",
      "['m', 'a', 'l', 'k', 'n', 's', 'i']\n",
      "['m', 'a', 'l', 'k', 'n', 's', 'i', 'y']\n",
      "['m', 'a', 'l', 'k', 'n', 's', 'i', 'y', 'b']\n",
      "['m', 'a', 'l', 'k', 'n', 's', 'i', 'y', 'b', 'r']\n",
      "['m', 'a', 'l', 'k', 'n', 's', 'i', 'y', 'b', 'r', 'z']\n",
      "['m', 'a', 'l', 'k', 'n', 's', 'i', 'y', 'b', 'r', 'z', 'x']\n",
      "['m', 'a', 'l', 'k', 'n', 's', 'i', 'y', 'b', 'r', 'z', 'x', 'c']\n",
      "['m', 'a', 'l', 'k', 'n', 's', 'i', 'y', 'b', 'r', 'z', 'x', 'c', 't']\n",
      "terdapat sebanyak 14 elemen yang unik\n"
     ]
    }
   ],
   "source": [
    "#C-4.11\n",
    "def uniqel(lst, unik=[]):\n",
    "    if len(lst)==0:\n",
    "        return print('terdapat sebanyak', len(unik), 'elemen yang unik')\n",
    "    else:\n",
    "        if lst[0] not in unik:\n",
    "            unik.append(lst[0])\n",
    "            print(unik)\n",
    "            return uniqel(lst[1:])\n",
    "        else:\n",
    "            return uniqel(lst[1:])\n",
    "\n",
    "coba4 = 'malammakannasiayambakarzxcyrt'\n",
    "uniqel(coba4)"
   ]
  },
  {
   "cell_type": "code",
   "execution_count": 7,
   "metadata": {},
   "outputs": [
    {
     "data": {
      "text/plain": [
       "15"
      ]
     },
     "execution_count": 7,
     "metadata": {},
     "output_type": "execute_result"
    }
   ],
   "source": [
    "#C-4.12\n",
    "def produk(m,n):\n",
    "    if n==1:\n",
    "        return m\n",
    "    else:\n",
    "        return m+produk(m,n-1)\n",
    "\n",
    "produk(5,3)"
   ]
  },
  {
   "cell_type": "code",
   "execution_count": 8,
   "metadata": {},
   "outputs": [
    {
     "data": {
      "text/plain": [
       "[1, 2, 3, 4, 5, 6, 7, 11, 33, 788, 9, 0, 98, 654, 22]"
      ]
     },
     "execution_count": 8,
     "metadata": {},
     "output_type": "execute_result"
    }
   ],
   "source": [
    "#C-4.15\n",
    "def subset(lst, sbst = []):\n",
    "    if len(lst) == 0:\n",
    "        return sbst\n",
    "    else:\n",
    "        if lst[0] in sbst:\n",
    "            return subset(lst[1:])\n",
    "        else:\n",
    "            sbst.append(lst[0])\n",
    "            return subset(lst[1:])\n",
    "        \n",
    "coba5 = [1,2,3,4,5,6,7,6,5,4,3,2,11,2,33,4,5,6,788,9,0,98,7,654,3,22,1]\n",
    "subset(coba5)"
   ]
  },
  {
   "cell_type": "code",
   "execution_count": 9,
   "metadata": {},
   "outputs": [
    {
     "data": {
      "text/plain": [
       "'apalap'"
      ]
     },
     "execution_count": 9,
     "metadata": {},
     "output_type": "execute_result"
    }
   ],
   "source": [
    "#C-4.16\n",
    "def reverse(str):\n",
    "    if len(str)==0:\n",
    "        return str\n",
    "    else:\n",
    "        return str[-1]+reverse(str[0:-1])\n",
    "    \n",
    "coba6 = 'palapa'\n",
    "reverse(coba6)"
   ]
  },
  {
   "cell_type": "code",
   "execution_count": 10,
   "metadata": {},
   "outputs": [
    {
     "name": "stdout",
     "output_type": "stream",
     "text": [
      "string tersebut adalah palindrom\n"
     ]
    }
   ],
   "source": [
    "#C-4.17\n",
    "def palindrom(str):\n",
    "    if len(str)<=1:\n",
    "        return print('string tersebut adalah palindrom')\n",
    "    else:\n",
    "        if str[0]==str[-1]:\n",
    "            return palindrom(str[1:-1])\n",
    "        else:\n",
    "            return print('string tersebut bukanlah palindrom')\n",
    "        \n",
    "coba7='raceecar'\n",
    "palindrom(coba7)"
   ]
  },
  {
   "cell_type": "code",
   "execution_count": 11,
   "metadata": {},
   "outputs": [
    {
     "name": "stdout",
     "output_type": "stream",
     "text": [
      "vocal:  6 \n",
      "konsonan:  7\n"
     ]
    }
   ],
   "source": [
    "#C-4.18\n",
    "def vow(strg, vowel=0, consonant=0):\n",
    "    if len(strg)==0:\n",
    "        return print('vocal: ', vowel, '\\nkonsonan: ', consonant)\n",
    "    else:\n",
    "        if strg[0]=='a' or strg[0]=='i' or strg[0]=='u' or strg[0]=='e' or strg[0]=='o':           \n",
    "            return vow(strg[1:], vowel+1, consonant)\n",
    "        else:\n",
    "            return vow(strg[1:], vowel, consonant+1)\n",
    "        \n",
    "coba8 = \"danimakannasi\"\n",
    "vow(coba8)"
   ]
  },
  {
   "cell_type": "code",
   "execution_count": 12,
   "metadata": {},
   "outputs": [
    {
     "data": {
      "text/plain": [
       "[20, 18, 16, 14, 12, 10, 8, 6, 4, 2, 1, 3, 5, 7, 9, 11, 13, 15, 17, 19]"
      ]
     },
     "execution_count": 12,
     "metadata": {},
     "output_type": "execute_result"
    }
   ],
   "source": [
    "#C-4.19\n",
    "def genapdlu(lst, hasil=[]):\n",
    "    if len(lst)==0:\n",
    "        return hasil\n",
    "    else:\n",
    "        if lst[0]%2==0:\n",
    "            hasil.insert(0, lst[0])\n",
    "            return genapdlu(lst[1:])\n",
    "        else:\n",
    "            hasil.append(lst[0])\n",
    "            return genapdlu(lst[1:])\n",
    "        \n",
    "coba9 = [1,2,3,4,5,6,7,8,9,10,11,12,13,14,15,16,17,18,19,20]\n",
    "genapdlu(coba9)"
   ]
  },
  {
   "cell_type": "code",
   "execution_count": 17,
   "metadata": {},
   "outputs": [
    {
     "name": "stdout",
     "output_type": "stream",
     "text": [
      "[1, 2, 4, 5, 4, 3, 6, 7, 8, 0, 8, 7, 6, 5, 7, 7, 6, 5, 4, 3, 2, 1, [8], 33, 9, 9, 66]\n"
     ]
    }
   ],
   "source": [
    "#C-4.20\n",
    "def kirikanan(lst, K, kiri=[], kanan=[]):\n",
    "    if len(lst)==0:\n",
    "        kiri.append([K])\n",
    "        return print(kiri+kanan)\n",
    "    else:\n",
    "        if lst[0]<=K:\n",
    "            kiri.append(lst[0])\n",
    "            return kirikanan(lst[1:],K)\n",
    "        else:\n",
    "            kanan.append(lst[0])\n",
    "            return kirikanan(lst[1:],K)\n",
    "\n",
    "coba10=[1,2,33,4,5,4,3,6,7,8,9,0,9,8,7,6,5,66,7,7,6,5,4,3,2,1]\n",
    "kirikanan(coba10, 8)"
   ]
  },
  {
   "cell_type": "code",
   "execution_count": 22,
   "metadata": {},
   "outputs": [
    {
     "data": {
      "text/plain": [
       "[[10, 10]]"
      ]
     },
     "execution_count": 22,
     "metadata": {},
     "output_type": "execute_result"
    }
   ],
   "source": [
    "#C-4.21\n",
    "def adakah(lst,K, pair=[]):\n",
    "    if len(lst)==0:\n",
    "        return pair\n",
    "    else:\n",
    "        a = K - lst[0]\n",
    "        if a in lst:\n",
    "            pair.append([lst[0], a])\n",
    "            return adakah(lst[1:],K)\n",
    "        else:\n",
    "            return adakah(lst[1:],K)\n",
    "\n",
    "coba11=[1,2,3,4,5,6,7,8,9,10]\n",
    "adakah(coba11, 20)"
   ]
  }
 ],
 "metadata": {
  "kernelspec": {
   "display_name": "Python 3",
   "language": "python",
   "name": "python3"
  },
  "language_info": {
   "codemirror_mode": {
    "name": "ipython",
    "version": 3
   },
   "file_extension": ".py",
   "mimetype": "text/x-python",
   "name": "python",
   "nbconvert_exporter": "python",
   "pygments_lexer": "ipython3",
   "version": "3.10.12"
  }
 },
 "nbformat": 4,
 "nbformat_minor": 2
}
