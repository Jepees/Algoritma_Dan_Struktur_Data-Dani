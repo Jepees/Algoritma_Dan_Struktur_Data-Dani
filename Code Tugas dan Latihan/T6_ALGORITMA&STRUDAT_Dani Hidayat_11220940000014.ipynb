{
 "cells": [
  {
   "cell_type": "code",
   "execution_count": 4,
   "metadata": {},
   "outputs": [
    {
     "name": "stdout",
     "output_type": "stream",
     "text": [
      "Data yang akan di sort : [67, 91, 87, 33, 49, 10, 16, 43, 65, 3]\n",
      "Quick Sort :\n",
      "[67, 91, 87, 49, 33, 10, 16, 43, 65, 3]\n",
      "[91, 67, 87, 49, 33, 10, 16, 43, 65, 3]\n",
      "[91, 67, 87, 49, 33, 10, 16, 43, 65, 3]\n",
      "[91, 67, 87, 49, 33, 10, 16, 43, 65, 3]\n",
      "[91, 67, 87, 49, 10, 33, 16, 43, 65, 3]\n",
      "[91, 67, 87, 49, 16, 33, 10, 43, 65, 3]\n",
      "[91, 67, 87, 49, 43, 33, 10, 16, 65, 3]\n",
      "[91, 67, 87, 49, 65, 33, 10, 16, 43, 3]\n"
     ]
    }
   ],
   "source": [
    "def qs(list,awal,akhir):\n",
    "    if awal < akhir:\n",
    "        pindex = partisi(list,awal,akhir)\n",
    "        qs(list,awal,pindex-1)\n",
    "        qs(list,pindex+1,akhir)\n",
    "\n",
    "def partisi(list,awal,akhir):\n",
    "    tengah = int(akhir/2)\n",
    "    pivot = list[tengah]\n",
    "    pindex = awal\n",
    "    for i in range(awal,tengah):\n",
    "        if list[i]>=pivot:\n",
    "            list[i],list[pindex]=list[pindex],list[i]\n",
    "            pindex = pindex + 1\n",
    "    list[pindex],list[tengah]=list[tengah],list[pindex]\n",
    "    print(list)\n",
    "    return pindex\n",
    "\n",
    "list = [67,91,87,33,49,10,16,43,65,3]\n",
    "print('Data yang akan di sort :', list)\n",
    "print('Quick Sort :')\n",
    "qs(list,0,len(list)-1)\n"
   ]
  },
  {
   "cell_type": "code",
   "execution_count": 8,
   "metadata": {},
   "outputs": [
    {
     "ename": "NameError",
     "evalue": "name 'LinkedQueue' is not defined",
     "output_type": "error",
     "traceback": [
      "\u001b[1;31m---------------------------------------------------------------------------\u001b[0m",
      "\u001b[1;31mNameError\u001b[0m                                 Traceback (most recent call last)",
      "Cell \u001b[1;32mIn[8], line 20\u001b[0m\n\u001b[0;32m     17\u001b[0m         \u001b[38;5;28;01mreturn\u001b[39;00m \u001b[38;5;66;03m# list is already sorted\u001b[39;00m\n\u001b[0;32m     19\u001b[0m \u001b[38;5;66;03m# divide\u001b[39;00m\n\u001b[1;32m---> 20\u001b[0m S1 \u001b[38;5;241m=\u001b[39m \u001b[43mLinkedQueue\u001b[49m( ) \u001b[38;5;66;03m# or any other queue implementation\u001b[39;00m\n\u001b[0;32m     21\u001b[0m S2 \u001b[38;5;241m=\u001b[39m LinkedQueue( )\n\u001b[0;32m     22\u001b[0m \u001b[38;5;28;01mwhile\u001b[39;00m \u001b[38;5;28mlen\u001b[39m(S1) \u001b[38;5;241m<\u001b[39m n \u001b[38;5;241m/\u001b[39m\u001b[38;5;241m/\u001b[39m \u001b[38;5;241m2\u001b[39m: \u001b[38;5;66;03m# move the first n//2 elements to S1\u001b[39;00m\n",
      "\u001b[1;31mNameError\u001b[0m: name 'LinkedQueue' is not defined"
     ]
    }
   ],
   "source": [
    "def merge(S1, S2, S):\n",
    "#”””Merge two sorted queue instances S1 and S2 into empty queue S.”””\n",
    "    while not S1 and not S2:\n",
    "        if S1.first( ) < S2.first( ):\n",
    "            S.enqueue(S1.dequeue( ))\n",
    "        else:\n",
    "            S.enqueue(S2.dequeue( ))\n",
    "    while not S1: # move remaining elements of S1 to S\n",
    "        S.enqueue(S1.dequeue( ))\n",
    "    while not S2: # move remaining elements of S2 to S\n",
    "        S.enqueue(S2.dequeue( ))\n",
    "        \n",
    "def mergesort(S):\n",
    "#”””Sort the elements of queue S using the merge-sort algorithm.”””\n",
    "    n = len(S)\n",
    "    if n < 2:\n",
    "        return # list is already sorted\n",
    "    \n",
    "# divide\n",
    "S1 = LinkedQueue( ) # or any other queue implementation\n",
    "S2 = LinkedQueue( )\n",
    "while len(S1) < n // 2: # move the first n//2 elements to S1\n",
    "    S1.enqueue(S.dequeue( ))\n",
    "while not S: # move the rest to S2\n",
    "    S2.enqueue(S.dequeue( ))\n",
    "# conquer (with recursion)\n",
    "mergesort(S1) # sort first half\n",
    "mergesort(S2) # sort second half\n",
    "# merge results\n",
    "merge(S1, S2, S)"
   ]
  },
  {
   "cell_type": "code",
   "execution_count": 12,
   "metadata": {},
   "outputs": [
    {
     "name": "stdout",
     "output_type": "stream",
     "text": [
      "[3]\n",
      "[4]\n",
      "[3, 4] \n",
      "\n",
      "[12]\n",
      "[3, 4]\n",
      "[12, 3, 4] \n",
      "\n",
      "[4]\n",
      "[5]\n",
      "[4, 5] \n",
      "\n",
      "[2]\n",
      "[4, 5]\n",
      "[2, 4, 5] \n",
      "\n",
      "[3, 4, 12]\n",
      "[2, 4, 5]\n",
      "[12, 3, 4, 2, 4, 5] \n",
      "\n",
      "[6]\n",
      "[5]\n",
      "[6, 5] \n",
      "\n",
      "[8]\n",
      "[5, 6]\n",
      "[8, 6, 5] \n",
      "\n",
      "[2]\n",
      "[2]\n",
      "[2, 2] \n",
      "\n",
      "[3]\n",
      "[2, 2]\n",
      "[3, 2, 2] \n",
      "\n",
      "[5, 6, 8]\n",
      "[2, 2, 3]\n",
      "[8, 6, 5, 3, 2, 2] \n",
      "\n",
      "[2, 3, 4, 4, 5, 12]\n",
      "[2, 2, 3, 5, 6, 8]\n",
      "[12, 3, 4, 2, 4, 5, 8, 6, 5, 3, 2, 2] \n",
      "\n"
     ]
    },
    {
     "data": {
      "text/plain": [
       "[2, 2, 2, 3, 3, 4, 4, 5, 5, 6, 8, 12]"
      ]
     },
     "execution_count": 12,
     "metadata": {},
     "output_type": "execute_result"
    }
   ],
   "source": [
    "def merge(S1, S2, S):\n",
    "    i=j=0\n",
    "    while i+j < len(S):\n",
    "        if j == len(S2) or (i < len(S1) and S1[i] < S2[j]):\n",
    "            S[i+j] = S1[i] # copy ith element of S1 as next item of S\n",
    "            i += 1\n",
    "        else:\n",
    "            S[i+j] = S2[j] # copy jth element of S2 as next item of S\n",
    "            j += 1\n",
    "\n",
    "def merge_sort(S):\n",
    "    n = len(S)\n",
    "    if n < 2:\n",
    "        return\n",
    "#divide\n",
    "    mid = n // 2\n",
    "    S1 = S[0:mid] # copy of first half\n",
    "    S2 = S[mid:n] # copy of second half\n",
    "    #conquer (with recursion)\n",
    "    merge_sort(S1) # sort copy of first half\n",
    "    merge_sort(S2) # sort copy of second half\n",
    "    print(S1)\n",
    "    print(S2)\n",
    "    print(f'{S} \\n')\n",
    "    #merge results\n",
    "    merge(S1, S2, S) # merge sorted halves back into S\n",
    "\n",
    "abc=[12,3,4,2,4,5,8,6,5,3,2,2]\n",
    "merge_sort(abc)\n",
    "abc"
   ]
  },
  {
   "cell_type": "code",
   "execution_count": 8,
   "metadata": {},
   "outputs": [
    {
     "name": "stdout",
     "output_type": "stream",
     "text": [
      "[2, 3, 1, 6, 54, 87, 6, 5, 8, 9, 7, 6, 542, 1, 45] [2, 3, 1, 6, 54, 87, 6, 5, 8, 9, 7, 6, 542, 1] [45] []\n",
      "[2, 3, 1, 6, 1, 6, 6, 5, 8, 9, 7, 45, 542, 54, 87] [2, 3, 1, 6, 1, 6, 6, 5, 8, 9, 7, 45, 542, 54] [87] [] \n",
      "\n",
      "[2, 3, 1, 6, 1, 6, 6, 5, 8, 9, 7, 45, 542, 54, 87] [2, 3, 1, 6, 1, 6, 6, 5, 8, 9] [7] [45, 542, 54, 87]\n",
      "[2, 3, 1, 6, 1, 6, 6, 5, 7, 9, 8, 45, 542, 54, 87] [2, 3, 1, 6, 1, 6, 6, 5, 7, 9] [8] [45, 542, 54, 87] \n",
      "\n",
      "[2, 3, 1, 6, 1, 6, 6, 5, 7, 9, 8, 45, 542, 54, 87] [2, 3, 1, 6, 1, 6, 6] [5] [7, 9, 8, 45, 542, 54, 87]\n",
      "[2, 3, 1, 1, 5, 6, 6, 6, 7, 9, 8, 45, 542, 54, 87] [2, 3, 1, 1, 5, 6, 6] [6] [7, 9, 8, 45, 542, 54, 87] \n",
      "\n",
      "[2, 3, 1, 1, 5, 6, 6, 6, 7, 9, 8, 45, 542, 54, 87] [2, 3, 1] [1] [5, 6, 6, 6, 7, 9, 8, 45, 542, 54, 87]\n",
      "[1, 1, 2, 3, 5, 6, 6, 6, 7, 9, 8, 45, 542, 54, 87] [1, 1, 2] [3] [5, 6, 6, 6, 7, 9, 8, 45, 542, 54, 87] \n",
      "\n",
      "[1, 1, 2, 3, 5, 6, 6, 6, 7, 9, 8, 45, 542, 54, 87] [] [1] [1, 2, 3, 5, 6, 6, 6, 7, 9, 8, 45, 542, 54, 87]\n",
      "[1, 1, 2, 3, 5, 6, 6, 6, 7, 9, 8, 45, 542, 54, 87] [1, 1, 2] [3] [5, 6, 6, 6, 7, 9, 8, 45, 542, 54, 87]\n",
      "[1, 1, 2, 3, 5, 6, 6, 6, 7, 9, 8, 45, 542, 54, 87] [1, 1, 2] [3] [5, 6, 6, 6, 7, 9, 8, 45, 542, 54, 87] \n",
      "\n",
      "[1, 1, 2, 3, 5, 6, 6, 6, 7, 9, 8, 45, 542, 54, 87] [1, 1] [2] [3, 5, 6, 6, 6, 7, 9, 8, 45, 542, 54, 87]\n",
      "[1, 1, 2, 3, 5, 6, 6, 6, 7, 9, 8, 45, 542, 54, 87] [1, 1, 2] [3] [5, 6, 6, 6, 7, 9, 8, 45, 542, 54, 87]\n",
      "[1, 1, 2, 3, 5, 6, 6, 6, 7, 9, 8, 45, 542, 54, 87] [1, 1, 2, 3, 5, 6, 6] [6] [7, 9, 8, 45, 542, 54, 87]\n",
      "[1, 1, 2, 3, 5, 6, 6, 6, 7, 9, 8, 45, 542, 54, 87] [1, 1, 2, 3, 5, 6, 6] [6] [7, 9, 8, 45, 542, 54, 87] \n",
      "\n",
      "[1, 1, 2, 3, 5, 6, 6, 6, 7, 9, 8, 45, 542, 54, 87] [1, 1, 2, 3, 5] [6] [6, 6, 7, 9, 8, 45, 542, 54, 87]\n",
      "[1, 1, 2, 3, 5, 6, 6, 6, 7, 9, 8, 45, 542, 54, 87] [1, 1, 2, 3, 5, 6, 6] [6] [7, 9, 8, 45, 542, 54, 87]\n",
      "[1, 1, 2, 3, 5, 6, 6, 6, 7, 9, 8, 45, 542, 54, 87] [1, 1, 2, 3, 5, 6, 6, 6, 7, 9] [8] [45, 542, 54, 87]\n",
      "[1, 1, 2, 3, 5, 6, 6, 6, 7, 8, 9, 45, 542, 54, 87] [1, 1, 2, 3, 5, 6, 6, 6, 7, 8] [9] [45, 542, 54, 87] \n",
      "\n",
      "[1, 1, 2, 3, 5, 6, 6, 6, 7, 8, 9, 45, 542, 54, 87] [1, 1, 2, 3, 5, 6, 6, 6] [7] [8, 9, 45, 542, 54, 87]\n",
      "[1, 1, 2, 3, 5, 6, 6, 6, 7, 8, 9, 45, 542, 54, 87] [1, 1, 2, 3, 5, 6, 6, 6, 7, 8] [9] [45, 542, 54, 87]\n",
      "[1, 1, 2, 3, 5, 6, 6, 6, 7, 8, 9, 45, 542, 54, 87] [1, 1, 2, 3, 5, 6, 6, 6, 7, 8, 9, 45, 542, 54] [87] []\n",
      "[1, 1, 2, 3, 5, 6, 6, 6, 7, 8, 9, 45, 54, 87, 542] [1, 1, 2, 3, 5, 6, 6, 6, 7, 8, 9, 45, 54, 87] [542] [] \n",
      "\n",
      "[1, 1, 2, 3, 5, 6, 6, 6, 7, 8, 9, 45, 54, 87, 542] [1, 1, 2, 3, 5, 6, 6, 6, 7, 8, 9, 45] [54] [87, 542]\n",
      "[1, 1, 2, 3, 5, 6, 6, 6, 7, 8, 9, 45, 54, 87, 542] [1, 1, 2, 3, 5, 6, 6, 6, 7, 8, 9, 45, 54, 87] [542] []\n"
     ]
    },
    {
     "data": {
      "text/plain": [
       "[1, 1, 2, 3, 5, 6, 6, 6, 7, 8, 9, 45, 54, 87, 542]"
      ]
     },
     "execution_count": 8,
     "metadata": {},
     "output_type": "execute_result"
    }
   ],
   "source": [
    "def inplace_quick_sort(S, a, b):\n",
    "    print(S,S[:b],[S[b]],S[b+1:])\n",
    "    if a >= b: \n",
    "        return # range is trivially sorted\n",
    "    pivot = S[b] # last element of range is pivot\n",
    "    left = a # will scan rightward\n",
    "    right = b-1 # will scan leftward\n",
    "    while left <= right:\n",
    "# scan until reaching value equal or larger than pivot (or right marker)\n",
    "        while left <= right and S[left] < pivot:\n",
    "            left += 1\n",
    "# scan until reaching value equal or smaller than pivot (or left marker)\n",
    "        while left <= right and pivot < S[right]:\n",
    "            right -= 1\n",
    "        if left <= right: # scans did not strictly cross\n",
    "            S[left], S[right] = S[right], S[left] # swap values\n",
    "            left, right = left + 1, right - 1 # shrink range\n",
    "# put pivot into its final place (currently marked by left index)\n",
    "    S[left], S[b] = S[b], S[left]\n",
    "# make recursive calls\n",
    "    print(f'{S} {S[:b]} {[S[b]]} {S[b+1:]} \\n')\n",
    "    inplace_quick_sort(S, a, left - 1)\n",
    "    inplace_quick_sort(S, left + 1, b)\n",
    "\n",
    "coba = [2,3,1,6,54,87,6,5,8,9,7,6,542,1,45]\n",
    "inplace_quick_sort(coba, 0, len(coba)-1)\n",
    "coba"
   ]
  },
  {
   "cell_type": "code",
   "execution_count": 3,
   "metadata": {},
   "outputs": [
    {
     "data": {
      "text/plain": [
       "[]"
      ]
     },
     "execution_count": 3,
     "metadata": {},
     "output_type": "execute_result"
    }
   ],
   "source": [
    "a = [1,2,3,4,5]\n",
    "a[0:0]"
   ]
  },
  {
   "cell_type": "code",
   "execution_count": null,
   "metadata": {},
   "outputs": [],
   "source": [
    "def harmonic(n):\n",
    "    if n <= 0:\n",
    "        return 'gabisa anjg'\n",
    "    elif n == 1:\n",
    "        return 1/n\n",
    "    else:\n",
    "        return 1/n + harmonic(n-1)\n",
    "    \n",
    "harmonic(2)"
   ]
  },
  {
   "cell_type": "code",
   "execution_count": null,
   "metadata": {},
   "outputs": [],
   "source": []
  }
 ],
 "metadata": {
  "kernelspec": {
   "display_name": "Python 3",
   "language": "python",
   "name": "python3"
  },
  "language_info": {
   "codemirror_mode": {
    "name": "ipython",
    "version": 3
   },
   "file_extension": ".py",
   "mimetype": "text/x-python",
   "name": "python",
   "nbconvert_exporter": "python",
   "pygments_lexer": "ipython3",
   "version": "3.10.12"
  }
 },
 "nbformat": 4,
 "nbformat_minor": 2
}
