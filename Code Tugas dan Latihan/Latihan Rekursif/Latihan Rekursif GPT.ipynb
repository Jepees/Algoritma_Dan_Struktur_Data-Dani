{
 "cells": [
  {
   "cell_type": "markdown",
   "metadata": {},
   "source": [
    "### LATIHAN DARI GPT"
   ]
  },
  {
   "cell_type": "code",
   "execution_count": 2,
   "metadata": {},
   "outputs": [
    {
     "name": "stdout",
     "output_type": "stream",
     "text": [
      "1\n",
      "1\n",
      "2\n",
      "3\n",
      "5\n",
      "8\n",
      "13\n",
      "21\n",
      "34\n",
      "55\n",
      "89\n",
      "144\n",
      "233\n",
      "377\n",
      "610\n",
      "987\n",
      "1597\n",
      "2584\n",
      "4181\n",
      "6765\n",
      "10946\n",
      "17711\n",
      "28657\n",
      "46368\n"
     ]
    }
   ],
   "source": [
    "#GPT-1\n",
    "def fibonacci(n):\n",
    "    if n<=2:\n",
    "        return 1\n",
    "    else:\n",
    "        return fibonacci(n-1)+fibonacci(n-2)\n",
    "\n",
    "for i in range(1,25):\n",
    "    print(fibonacci(i))"
   ]
  },
  {
   "cell_type": "code",
   "execution_count": 147,
   "metadata": {},
   "outputs": [
    {
     "name": "stdout",
     "output_type": "stream",
     "text": [
      "[1, 2, 3, 4, 5, 6, 7, 8, 9, 10, 11, 12]\n",
      "[2, 3, 4, 5, 6, 7, 8, 9, 10, 11]\n",
      "[3, 4, 5, 6, 7, 8, 9, 10]\n",
      "[4, 5, 6, 7, 8, 9]\n",
      "[5, 6, 7, 8]\n",
      "[6, 7]\n",
      "[]\n"
     ]
    },
    {
     "data": {
      "text/plain": [
       "78"
      ]
     },
     "execution_count": 147,
     "metadata": {},
     "output_type": "execute_result"
    }
   ],
   "source": [
    "#GPT-2\n",
    "def jumlah(lst):\n",
    "    print(lst)\n",
    "    if len(lst)==0:\n",
    "        return 0\n",
    "    elif len(lst)==1:\n",
    "        return lst[0]\n",
    "    else:\n",
    "        return lst[0]+lst[-1]+jumlah(lst[1:-1])\n",
    "    \n",
    "coba12=[1,2,3,4,5,6,7,8,9,10,11,12]\n",
    "jumlah(coba12)"
   ]
  },
  {
   "cell_type": "code",
   "execution_count": 148,
   "metadata": {},
   "outputs": [
    {
     "name": "stdout",
     "output_type": "stream",
     "text": [
      "[1, 2, 3, 4, 5, 6, 7, 8, 9, 10, 11, 12]\n",
      "[2, 3, 4, 5, 6, 7, 8, 9, 10, 11, 12]\n",
      "[3, 4, 5, 6, 7, 8, 9, 10, 11, 12]\n",
      "[4, 5, 6, 7, 8, 9, 10, 11, 12]\n",
      "[5, 6, 7, 8, 9, 10, 11, 12]\n",
      "[6, 7, 8, 9, 10, 11, 12]\n",
      "[7, 8, 9, 10, 11, 12]\n",
      "[8, 9, 10, 11, 12]\n",
      "[9, 10, 11, 12]\n",
      "[10, 11, 12]\n",
      "[11, 12]\n",
      "[12]\n"
     ]
    },
    {
     "data": {
      "text/plain": [
       "78"
      ]
     },
     "execution_count": 148,
     "metadata": {},
     "output_type": "execute_result"
    }
   ],
   "source": [
    "#GPT-2\n",
    "def jumlah2(lst):\n",
    "    print(lst)\n",
    "    if len(lst)==1:\n",
    "        return lst[0]\n",
    "    else:\n",
    "        return lst[0]+jumlah2(lst[1:])\n",
    "    \n",
    "jumlah2(coba12)"
   ]
  },
  {
   "cell_type": "code",
   "execution_count": 82,
   "metadata": {},
   "outputs": [
    {
     "data": {
      "text/plain": [
       "[1, 2, 3, 4, 5, 6, 7, 8, 9, 0, 'makan', 77, 55, 321]"
      ]
     },
     "execution_count": 82,
     "metadata": {},
     "output_type": "execute_result"
    }
   ],
   "source": [
    "#GPT-3\n",
    "def deldup(lst, hasil=[]):\n",
    "    if len(lst)==0:\n",
    "        return hasil\n",
    "    else:\n",
    "        if lst[0] not in hasil:\n",
    "            hasil.append(lst[0])\n",
    "            return deldup(lst[1:], hasil)\n",
    "        else:\n",
    "            return deldup(lst[1:], hasil)\n",
    "\n",
    "coba13=[1,2,1,2,2,3,4,5,6,7,8,9,0,'makan',5,6,77,8,6,55,4,321,0]\n",
    "deldup(coba13)"
   ]
  },
  {
   "cell_type": "code",
   "execution_count": 136,
   "metadata": {},
   "outputs": [
    {
     "data": {
      "text/plain": [
       "[2, 3, 13]"
      ]
     },
     "execution_count": 136,
     "metadata": {},
     "output_type": "execute_result"
    }
   ],
   "source": [
    "#GPT-4\n",
    "def faktorprima(n, faktor=2, hasil=[]):\n",
    "    if n==1:\n",
    "        return hasil\n",
    "    elif n%faktor==0:\n",
    "        hasil.append(faktor)\n",
    "        return faktorprima(n//faktor, faktor, hasil)\n",
    "    else:\n",
    "        return faktorprima(n, faktor+1, hasil)\n",
    "\n",
    "faktorprima(78)"
   ]
  },
  {
   "cell_type": "code",
   "execution_count": 142,
   "metadata": {},
   "outputs": [
    {
     "data": {
      "text/plain": [
       "15"
      ]
     },
     "execution_count": 142,
     "metadata": {},
     "output_type": "execute_result"
    }
   ],
   "source": [
    "#GPT-6\n",
    "def deretn(n):\n",
    "    if n==1:\n",
    "        return 1\n",
    "    else:\n",
    "        return n+deretn(n-1)\n",
    "\n",
    "deretn(5)"
   ]
  },
  {
   "cell_type": "code",
   "execution_count": 146,
   "metadata": {},
   "outputs": [
    {
     "data": {
      "text/plain": [
       "262144"
      ]
     },
     "execution_count": 146,
     "metadata": {},
     "output_type": "execute_result"
    }
   ],
   "source": [
    "#GPT-7\n",
    "def power(m,n):\n",
    "    if n==0:\n",
    "        return 1\n",
    "    elif n==1:\n",
    "        return m\n",
    "    else:\n",
    "        return m*power(m,n-1)\n",
    "    \n",
    "power(4,9)"
   ]
  },
  {
   "cell_type": "code",
   "execution_count": 152,
   "metadata": {},
   "outputs": [
    {
     "data": {
      "text/plain": [
       "[[1, 2],\n",
       " [2, 4],\n",
       " [3, 6],\n",
       " [4, 8],\n",
       " [5, 10],\n",
       " [6, 12],\n",
       " [7, 14],\n",
       " [8, 16],\n",
       " [9, 18],\n",
       " [10, 20]]"
      ]
     },
     "execution_count": 152,
     "metadata": {},
     "output_type": "execute_result"
    }
   ],
   "source": [
    "#GPT-8\n",
    "def pairdiv(lst, k, pair=[]):\n",
    "    if len(lst)==0:\n",
    "        return pair\n",
    "    else:\n",
    "        x = lst[0]*k\n",
    "        if x in lst:\n",
    "            pair.append([lst[0], x])\n",
    "            return pairdiv(lst[1:],k,pair)\n",
    "        else:\n",
    "            return pairdiv(lst[1:],k,pair)\n",
    "\n",
    "coba14 = [1,2,3,4,5,6,7,8,9,10,11,12,13,14,15,16,17,18,19,20]\n",
    "pairdiv(coba14, 2)"
   ]
  }
 ],
 "metadata": {
  "kernelspec": {
   "display_name": "Python 3",
   "language": "python",
   "name": "python3"
  },
  "language_info": {
   "codemirror_mode": {
    "name": "ipython",
    "version": 3
   },
   "file_extension": ".py",
   "mimetype": "text/x-python",
   "name": "python",
   "nbconvert_exporter": "python",
   "pygments_lexer": "ipython3",
   "version": "3.10.12"
  }
 },
 "nbformat": 4,
 "nbformat_minor": 2
}
